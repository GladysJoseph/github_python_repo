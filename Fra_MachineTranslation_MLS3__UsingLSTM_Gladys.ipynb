{
  "nbformat": 4,
  "nbformat_minor": 0,
  "metadata": {
    "colab": {
      "provenance": [],
      "gpuType": "T4",
      "mount_file_id": "1ipmmdFqPyg3k5vkZ6EkgSMuDynwKeItr",
      "authorship_tag": "ABX9TyMll9sC6mqcxRS4WYKRIp30",
      "include_colab_link": true
    },
    "kernelspec": {
      "name": "python3",
      "display_name": "Python 3"
    },
    "language_info": {
      "name": "python"
    },
    "accelerator": "GPU"
  },
  "cells": [
    {
      "cell_type": "markdown",
      "metadata": {
        "id": "view-in-github",
        "colab_type": "text"
      },
      "source": [
        "<a href=\"https://colab.research.google.com/github/GladysJoseph/github_python_repo/blob/main/Fra_MachineTranslation_MLS3__UsingLSTM_Gladys.ipynb\" target=\"_parent\"><img src=\"https://colab.research.google.com/assets/colab-badge.svg\" alt=\"Open In Colab\"/></a>"
      ]
    },
    {
      "cell_type": "markdown",
      "source": [
        "\n",
        "\n",
        "# **Context and Abstract**\n",
        "\n"
      ],
      "metadata": {
        "id": "IYrD4KpvGMXP"
      }
    },
    {
      "cell_type": "code",
      "execution_count": null,
      "metadata": {
        "id": "SgW_w8PD-mOB",
        "colab": {
          "base_uri": "https://localhost:8080/"
        },
        "outputId": "8ad365ad-2ce4-43ce-a211-323956c8b4b7"
      },
      "outputs": [
        {
          "output_type": "stream",
          "name": "stdout",
          "text": [
            "Collecting Unidecode\n",
            "  Downloading Unidecode-1.3.8-py3-none-any.whl (235 kB)\n",
            "\u001b[2K     \u001b[90m━━━━━━━━━━━━━━━━━━━━━━━━━━━━━━━━━━━━━━━━\u001b[0m \u001b[32m235.5/235.5 kB\u001b[0m \u001b[31m3.3 MB/s\u001b[0m eta \u001b[36m0:00:00\u001b[0m\n",
            "\u001b[?25hInstalling collected packages: Unidecode\n",
            "Successfully installed Unidecode-1.3.8\n",
            "Collecting autocorrect\n",
            "  Downloading autocorrect-2.6.1.tar.gz (622 kB)\n",
            "\u001b[2K     \u001b[90m━━━━━━━━━━━━━━━━━━━━━━━━━━━━━━━━━━━━━━━━\u001b[0m \u001b[32m622.8/622.8 kB\u001b[0m \u001b[31m5.7 MB/s\u001b[0m eta \u001b[36m0:00:00\u001b[0m\n",
            "\u001b[?25h  Preparing metadata (setup.py) ... \u001b[?25l\u001b[?25hdone\n",
            "Building wheels for collected packages: autocorrect\n",
            "  Building wheel for autocorrect (setup.py) ... \u001b[?25l\u001b[?25hdone\n",
            "  Created wheel for autocorrect: filename=autocorrect-2.6.1-py3-none-any.whl size=622364 sha256=eb80d467f415f1228aaac4d4d8875ae6cda6669ee7300cb8b5eb9e8a2c36be39\n",
            "  Stored in directory: /root/.cache/pip/wheels/b5/7b/6d/b76b29ce11ff8e2521c8c7dd0e5bfee4fb1789d76193124343\n",
            "Successfully built autocorrect\n",
            "Installing collected packages: autocorrect\n",
            "Successfully installed autocorrect-2.6.1\n"
          ]
        }
      ],
      "source": [
        "!pip install Unidecode\n",
        "!pip install autocorrect"
      ]
    },
    {
      "cell_type": "markdown",
      "source": [
        "## **Downloading the Required Libraries**"
      ],
      "metadata": {
        "id": "c1nZI6NzGJqm"
      }
    },
    {
      "cell_type": "code",
      "source": [
        "#importing the required libraries\n",
        "########## cHANGE RUNTIME TO T4 GPU- BECAUSE THE KERAS IS SLOW\n",
        "########## fOR A MAC USE A 4M GPU\n",
        "\n",
        "# to read and manipulate the data\n",
        "import pandas as pd\n",
        "import numpy as np # Importing the NumPy library for numerical computations.\n",
        "\n",
        "import tensorflow as tf # Importing the TensorFlow library for machine learning.\n",
        "\n",
        "from tensorflow import keras # Importing the Keras module from TensorFlow.\n",
        "\n",
        "from tensorflow.keras.layers import Input # Importing the Input layer from Keras.\n",
        "\n",
        "from tensorflow.keras import Model # Importing the Model class from Keras.\n"
      ],
      "metadata": {
        "id": "82ahhGgPLcVs"
      },
      "execution_count": null,
      "outputs": []
    },
    {
      "cell_type": "markdown",
      "source": [
        "# **Reading and Processinf the dataset**"
      ],
      "metadata": {
        "id": "-KbK6fFWGa5_"
      }
    },
    {
      "cell_type": "markdown",
      "source": [
        "##**Load Dataset**"
      ],
      "metadata": {
        "id": "OfK_aulSVvK6"
      }
    },
    {
      "cell_type": "code",
      "source": [
        "##THESE ARE UNIX BASE COMMANDS\n",
        "!!curl -O http://www.manythings.org/anki/fra-eng.zip\n",
        "!!unzip fra-eng.zip\n",
        "\n",
        "\n",
        "#Loading the data\n",
        "#messages = pd.read_csv('/content/drive/MyDrive/fra_Manythings_ML:S3MachTranslation].txt')"
      ],
      "metadata": {
        "id": "-H_xPvtTUZoU",
        "colab": {
          "base_uri": "https://localhost:8080/"
        },
        "outputId": "82613903-7835-43c3-897c-144b44c46277"
      },
      "execution_count": null,
      "outputs": [
        {
          "output_type": "execute_result",
          "data": {
            "text/plain": [
              "['Archive:  fra-eng.zip',\n",
              " '  inflating: _about.txt              ',\n",
              " '  inflating: fra.txt                 ']"
            ]
          },
          "metadata": {},
          "execution_count": 3
        }
      ]
    },
    {
      "cell_type": "code",
      "source": [
        " batch_size = 64  # Batch size for training. tHIS IS BATCHING 64 SENTENCES AT A TIME\n",
        "epochs = 100  # Number of epochs to train for.\n",
        "latent_dim = 256  # Latent dimensionality of the encoding space.\n",
        "num_samples = 10000  # Number of samples to train on\n",
        "\n",
        "# Path to the data txt file on disk.\n",
        "data_path = \"fra.txt\""
      ],
      "metadata": {
        "id": "4WDtPD7YVF4K"
      },
      "execution_count": null,
      "outputs": []
    },
    {
      "cell_type": "code",
      "source": [
        "# Vectorizing the data and storing them in lists\n",
        "input_texts = []\n",
        "target_texts = []\n",
        "'''input_texts and target_texts are empty lists that will store the input and target texts, respectively.'''\n",
        "\n",
        "# Sets for Creating vocabulary of Input Characters\n",
        "input_characters = set()\n",
        "target_characters = set()\n",
        "\n",
        "\n",
        "'''input_characters and target_characters are sets that will be used to create the vocabulary of unique characters present in the input and target texts, respectively.'''\n",
        "\n",
        "\n",
        "# Reading File with utf-8 encoding\n",
        "with open(data_path, \"r\", encoding=\"utf-8\") as f:\n",
        "    lines = f.read().split(\"\\n\")  ##returns a list of lines\n",
        "\n",
        "\n",
        "'''  opens the file specified by the data_path variable using the open() function, with the encoding set to \"utf-8\"'''\n",
        "\n",
        "\n",
        "# Separating input and target texts and storing themin different lists.\n",
        "for line in lines[: min(num_samples, len(lines) - 1)]:\n",
        "    input_text, target_text, _ = line.split(\"\\t\")\n",
        "    # We use \"tab\" as the \"start sequence\" character\n",
        "    # for the targets, and \"\\n\" as \"end sequence\" character.\n",
        "    target_text = \"\\t\" + target_text + \"\\n\"\n",
        "    input_texts.append(input_text)\n",
        "    target_texts.append(target_text)\n",
        "\n",
        "    # Adding Unique Characters to the Input Characters array to create vocabulary\n",
        "    for char in input_text:\n",
        "        if char not in input_characters:\n",
        "            input_characters.add(char)\n",
        "    for char in target_text:\n",
        "        if char not in target_characters:\n",
        "            target_characters.add(char)\n",
        "\n",
        "    ''' These loops iterate over the characters in the input and target texts, respectively.\n",
        "        They add each unique character to their respective sets\n",
        "         (input_characters and target_characters) to build the vocabulary.'''"
      ],
      "metadata": {
        "id": "dxEs2C3qGo7b"
      },
      "execution_count": null,
      "outputs": []
    },
    {
      "cell_type": "markdown",
      "source": [
        "The overall purpose of the above code is to read a text file, extract the input and target texts, and create sets of unique characters present in the input and target texts for further processing or creating a vocabulary."
      ],
      "metadata": {
        "id": "KxjUeoKOHFss"
      }
    },
    {
      "cell_type": "markdown",
      "source": [
        "##**Check the dataset**"
      ],
      "metadata": {
        "id": "O4CybOgrVqXN"
      }
    },
    {
      "cell_type": "markdown",
      "source": [
        "**View the first and the last 5 rows of the dataset**"
      ],
      "metadata": {
        "id": "HbrmKoZiWMw7"
      }
    },
    {
      "cell_type": "code",
      "source": [
        "input_characters = sorted(list(input_characters))\n",
        "target_characters = sorted(list(target_characters))\n",
        "num_encoder_tokens = len(input_characters)\n",
        "num_decoder_tokens = len(target_characters)\n",
        "max_encoder_seq_length = max([len(txt) for txt in input_texts])\n",
        "max_decoder_seq_length = max([len(txt) for txt in target_texts])\n",
        "\n",
        "print(\"Number of samples:\", len(input_texts))\n",
        "print(\"Number of unique input tokens:\", num_encoder_tokens)\n",
        "print(\"Number of unique output tokens:\", num_decoder_tokens)\n",
        "print(\"Max sequence length for inputs:\", max_encoder_seq_length)\n",
        "print(\"Max sequence length for outputs:\", max_decoder_seq_length)"
      ],
      "metadata": {
        "colab": {
          "base_uri": "https://localhost:8080/"
        },
        "id": "XQrCio_yVPn4",
        "outputId": "7236b47c-b9f3-407a-8eeb-8a73c6729afb"
      },
      "execution_count": null,
      "outputs": [
        {
          "output_type": "stream",
          "name": "stdout",
          "text": [
            "Number of samples: 10000\n",
            "Number of unique input tokens: 70\n",
            "Number of unique output tokens: 93\n",
            "Max sequence length for inputs: 14\n",
            "Max sequence length for outputs: 59\n"
          ]
        }
      ]
    },
    {
      "cell_type": "markdown",
      "source": [
        "# **Tokenizing and Vectorizing the Text**\n",
        "Here we are building a Character level translation tool. So each token of our Input text shall be a character and each token of the target text will be a French character. We therefore convert the input data into a three dimensional array. The first dimension consists of number of English to French pairs, the second dimension consists of the length of each sentence. ( Here, we are taking the length of each sentence to be the length of the longest sentence in each of these languages, and for sentences whose lengths are smaller than the highest length, we are padding them with the ' ' token or a blank space token). The third dimension has a length equal to number of unique characters in that particular language, as this vector is a one-hot encoded vector for English and French alphabets."
      ],
      "metadata": {
        "id": "PZpPPy6nHa1r"
      }
    },
    {
      "cell_type": "code",
      "source": [
        "# Creating array of zeros with mentioned shape\n",
        "\n",
        "input_token_index = dict([(char, i) for i, char in enumerate(input_characters)])\n",
        "target_token_index = dict([(char, i) for i, char in enumerate(target_characters)])"
      ],
      "metadata": {
        "id": "cy3Qhd5hWX5E"
      },
      "execution_count": null,
      "outputs": []
    },
    {
      "cell_type": "markdown",
      "source": [
        "These lines create dictionaries (input_token_index and target_token_index) that map each unique character in the input and target texts to a unique integer index. These indexes will be used to represent characters in the one-hot encoded vectors."
      ],
      "metadata": {
        "id": "wFdv1op2HpL0"
      }
    },
    {
      "cell_type": "code",
      "source": [
        "encoder_input_data = np.zeros(\n",
        "    (len(input_texts), max_encoder_seq_length, num_encoder_tokens), dtype=\"float32\"\n",
        ")\n",
        "decoder_input_data = np.zeros(\n",
        "    (len(input_texts), max_decoder_seq_length, num_decoder_tokens), dtype=\"float32\"\n",
        ")\n",
        "decoder_target_data = np.zeros(\n",
        "    (len(input_texts), max_decoder_seq_length, num_decoder_tokens), dtype=\"float32\"\n",
        ")"
      ],
      "metadata": {
        "id": "reumU6bpWgeb"
      },
      "execution_count": null,
      "outputs": []
    },
    {
      "cell_type": "markdown",
      "source": [
        "The code above creates numpy arrays (encoder_input_data, decoder_input_data, and decoder_target_data) filled with zeros. The shapes of these arrays depend on the number of input texts and the maximum sequence lengths for both the encoder and decoder. num_encoder_tokens and num_decoder_tokens represent the total number of unique characters in the input and target texts, respectively."
      ],
      "metadata": {
        "id": "KcSZ0QiDXaML"
      }
    },
    {
      "cell_type": "code",
      "source": [
        "# Populating the arrays\n",
        "for i, (input_text, target_text) in enumerate(zip(input_texts, target_texts)):\n",
        "    for t, char in enumerate(input_text):\n",
        "        encoder_input_data[i, t, input_token_index[char]] = 1.0\n",
        "    encoder_input_data[i, t + 1 :, input_token_index[\" \"]] = 1.0 # From (t + 1)th time step, all characters are padded with a blank space character\n",
        "    for t, char in enumerate(target_text):\n",
        "        # decoder_target_data is ahead of decoder_input_data by one timestep\n",
        "        decoder_input_data[i, t, target_token_index[char]] = 1.0\n",
        "        if t > 0:\n",
        "            # decoder_target_data will be ahead by one timestep\n",
        "            # and will not include the start character.\n",
        "            decoder_target_data[i, t - 1, target_token_index[char]] = 1.0\n",
        "    decoder_input_data[i, t + 1 :, target_token_index[\" \"]] = 1.0\n",
        "    decoder_target_data[i, t:, target_token_index[\" \"]] = 1.0"
      ],
      "metadata": {
        "id": "AKlysDO8IMae"
      },
      "execution_count": null,
      "outputs": []
    },
    {
      "cell_type": "markdown",
      "source": [
        "These loops iterate through pairs of input and target texts. For each character in the input and target texts, it sets the corresponding index in the one-hot encoded vectors to 1.0. Note that a blank space character is used as a padding character, and it is also represented as a 1.0 in the arrays to ensure consistent sequence lengths."
      ],
      "metadata": {
        "id": "VczpdGaQXQgI"
      }
    },
    {
      "cell_type": "markdown",
      "source": [
        "# **Encoder and Decoder Architecture**\n",
        "\n",
        "The Architecture has two units, the Encoder LSTM blocks and the Decoder LSTM blocks.\n",
        "\n",
        "Theoretically in a Sequence to Sequence architecture, the output of the Decoder at one time step is used as an input for the next decoder time step. But during training, we are using the Ground Truth value for the input to the next decoder time step, so that our model learns better. This is called Teacher forcing.\n",
        "\n",
        "We shall however change this in the inference or the testing stage, where we shall use the more traditional method of using the output of previous decoder time step as the current input to predict the output character."
      ],
      "metadata": {
        "id": "OH70pyxOIavs"
      }
    },
    {
      "cell_type": "markdown",
      "source": [
        "![image.png](data:image/png;base64,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)"
      ],
      "metadata": {
        "id": "FhGkXdUlJiIK"
      }
    },
    {
      "cell_type": "markdown",
      "source": [
        "# **Building the Model**"
      ],
      "metadata": {
        "id": "V6x8BJusInWD"
      }
    },
    {
      "cell_type": "code",
      "source": [
        "# Define an input sequence and process it.\n",
        "encoder_inputs = keras.Input(shape=(None, num_encoder_tokens))\n",
        "\n",
        "# Define an LSTM layer for encoding the input sequence.\n",
        "encoder = keras.layers.LSTM(latent_dim, return_state=True)\n",
        "\n",
        "# Pass the input sequence through the LSTM encoder.\n",
        "encoder_outputs, state_h, state_c = encoder(encoder_inputs)\n",
        "\n",
        "# We discard `encoder_outputs` and only keep the states.\n",
        "encoder_states = [state_h, state_c]\n"
      ],
      "metadata": {
        "id": "jJSfoWPkWvmb"
      },
      "execution_count": null,
      "outputs": []
    },
    {
      "cell_type": "markdown",
      "source": [
        "This code sets up the encoder part of a sequence-to-sequence model using an LSTM layer. It takes an input sequence, processes it through the LSTM, and retains the final hidden and cell states as encoder_states. These states will be used to initialize the decoder in a subsequent part of the model."
      ],
      "metadata": {
        "id": "DYEGbidWXscc"
      }
    },
    {
      "cell_type": "code",
      "source": [
        "# Set up the decoder, using `encoder_states` as initial state.\n",
        "decoder_inputs = keras.Input(shape=(None, num_decoder_tokens))\n",
        "\n",
        "# Define an LSTM layer for the decoder.\n",
        "decoder_lstm = keras.layers.LSTM(latent_dim, return_sequences=True, return_state=True)\n",
        "\n",
        "# Pass the decoder inputs through the LSTM decoder with initial states from the encoder.\n",
        "decoder_outputs, _, _ = decoder_lstm(decoder_inputs, initial_state=encoder_states)\n",
        "\n",
        "# Define a dense layer for outputting the decoder predictions.\n",
        "decoder_dense = keras.layers.Dense(num_decoder_tokens, activation=\"softmax\")\n",
        "\n",
        "# Apply the dense layer to the decoder outputs to get the final predictions.\n",
        "decoder_outputs = decoder_dense(decoder_outputs)"
      ],
      "metadata": {
        "id": "uIuCCm2ZKEd9"
      },
      "execution_count": null,
      "outputs": []
    },
    {
      "cell_type": "markdown",
      "source": [
        "In a sequence-to-sequence model, the decoder is responsible for generating the target sequence based on the encoder's representation of the input sequence. This code sets up the architecture for the decoder, ensuring that it is connected to the encoder and is capable of producing output sequences."
      ],
      "metadata": {
        "id": "zh91PyJ9Jzxe"
      }
    },
    {
      "cell_type": "code",
      "source": [
        "# Define the model that will turn\n",
        "# `encoder_input_data` & `decoder_input_data` into `decoder_target_data`\n",
        "model = keras.Model([encoder_inputs, decoder_inputs], decoder_outputs)"
      ],
      "metadata": {
        "id": "H2IQGUbuXLSk"
      },
      "execution_count": null,
      "outputs": []
    },
    {
      "cell_type": "code",
      "source": [
        " # plotting the model architecture\n",
        "from tensorflow.keras.utils import plot_model\n",
        "plot_model(model, to_file='model.png', show_shapes=True)"
      ],
      "metadata": {
        "colab": {
          "base_uri": "https://localhost:8080/",
          "height": 422
        },
        "id": "kxPTBZb4KnZs",
        "outputId": "d09b8f10-505b-4450-82af-b862c46edf36"
      },
      "execution_count": null,
      "outputs": [
        {
          "output_type": "execute_result",
          "data": {
            "image/png": "[encoded data removed]",
            "text/plain": [
              "<IPython.core.display.Image object>"
            ]
          },
          "metadata": {},
          "execution_count": 13
        }
      ]
    },
    {
      "cell_type": "markdown",
      "source": [
        "##**Training the Model **"
      ],
      "metadata": {
        "id": "Vygt24YtjvJ_"
      }
    },
    {
      "cell_type": "code",
      "source": [
        "# Compile the model with optimizer, loss function, and metrics.\n",
        "model.compile(optimizer='rmsprop', loss='categorical_crossentropy', metrics=[\"accuracy\"])\n",
        "\n",
        "# Train the model using the prepared data.\n",
        "model.fit(\n",
        "    [encoder_input_data, decoder_input_data],  # Input data: encoder and decoder sequences\n",
        "    decoder_target_data,                       # Target data: decoder target sequences\n",
        "    batch_size=batch_size,                     # Batch size for training\n",
        "    epochs=epochs,                             # Number of training epochs\n",
        "    validation_split=0.2                       # Fraction of data to use for validation\n",
        ")"
      ],
      "metadata": {
        "id": "ukY4Ym8Djs-o",
        "colab": {
          "base_uri": "https://localhost:8080/"
        },
        "outputId": "59a029cc-ce34-4a03-b4ab-b195c99bad64"
      },
      "execution_count": null,
      "outputs": [
        {
          "output_type": "stream",
          "name": "stdout",
          "text": [
            "Epoch 1/100\n",
            "125/125 [==============================] - 12s 45ms/step - loss: 1.2136 - accuracy: 0.7329 - val_loss: 1.1704 - val_accuracy: 0.7141\n",
            "Epoch 2/100\n",
            "125/125 [==============================] - 2s 16ms/step - loss: 0.9371 - accuracy: 0.7475 - val_loss: 0.9634 - val_accuracy: 0.7281\n",
            "Epoch 3/100\n",
            "125/125 [==============================] - 2s 12ms/step - loss: 0.8486 - accuracy: 0.7661 - val_loss: 0.8717 - val_accuracy: 0.7526\n",
            "Epoch 4/100\n",
            "125/125 [==============================] - 2s 13ms/step - loss: 0.7431 - accuracy: 0.7908 - val_loss: 0.7939 - val_accuracy: 0.7741\n",
            "Epoch 5/100\n",
            "125/125 [==============================] - 2s 15ms/step - loss: 0.6709 - accuracy: 0.8077 - val_loss: 0.7203 - val_accuracy: 0.7948\n",
            "Epoch 6/100\n",
            "125/125 [==============================] - 2s 13ms/step - loss: 0.6277 - accuracy: 0.8175 - val_loss: 0.6867 - val_accuracy: 0.7984\n",
            "Epoch 7/100\n",
            "125/125 [==============================] - 2s 19ms/step - loss: 0.5997 - accuracy: 0.8238 - val_loss: 0.6641 - val_accuracy: 0.8052\n",
            "Epoch 8/100\n",
            "125/125 [==============================] - 2s 14ms/step - loss: 0.5760 - accuracy: 0.8304 - val_loss: 0.6313 - val_accuracy: 0.8185\n",
            "Epoch 9/100\n",
            "125/125 [==============================] - 1s 12ms/step - loss: 0.5577 - accuracy: 0.8361 - val_loss: 0.6106 - val_accuracy: 0.8231\n",
            "Epoch 10/100\n",
            "125/125 [==============================] - 1s 12ms/step - loss: 0.5377 - accuracy: 0.8419 - val_loss: 0.5960 - val_accuracy: 0.8265\n",
            "Epoch 11/100\n",
            "125/125 [==============================] - 2s 14ms/step - loss: 0.5227 - accuracy: 0.8460 - val_loss: 0.5866 - val_accuracy: 0.8295\n",
            "Epoch 12/100\n",
            "125/125 [==============================] - 2s 12ms/step - loss: 0.5076 - accuracy: 0.8506 - val_loss: 0.5652 - val_accuracy: 0.8359\n",
            "Epoch 13/100\n",
            "125/125 [==============================] - 2s 13ms/step - loss: 0.4943 - accuracy: 0.8546 - val_loss: 0.5666 - val_accuracy: 0.8373\n",
            "Epoch 14/100\n",
            "125/125 [==============================] - 2s 15ms/step - loss: 0.4825 - accuracy: 0.8581 - val_loss: 0.5476 - val_accuracy: 0.8411\n",
            "Epoch 15/100\n",
            "125/125 [==============================] - 2s 16ms/step - loss: 0.4712 - accuracy: 0.8611 - val_loss: 0.5379 - val_accuracy: 0.8443\n",
            "Epoch 16/100\n",
            "125/125 [==============================] - 2s 14ms/step - loss: 0.4608 - accuracy: 0.8644 - val_loss: 0.5265 - val_accuracy: 0.8472\n",
            "Epoch 17/100\n",
            "125/125 [==============================] - 1s 11ms/step - loss: 0.4500 - accuracy: 0.8674 - val_loss: 0.5174 - val_accuracy: 0.8498\n",
            "Epoch 18/100\n",
            "125/125 [==============================] - 1s 12ms/step - loss: 0.4410 - accuracy: 0.8700 - val_loss: 0.5123 - val_accuracy: 0.8510\n",
            "Epoch 19/100\n",
            "125/125 [==============================] - 1s 11ms/step - loss: 0.4324 - accuracy: 0.8723 - val_loss: 0.5058 - val_accuracy: 0.8521\n",
            "Epoch 20/100\n",
            "125/125 [==============================] - 1s 11ms/step - loss: 0.4236 - accuracy: 0.8751 - val_loss: 0.5042 - val_accuracy: 0.8523\n",
            "Epoch 21/100\n",
            "125/125 [==============================] - 1s 12ms/step - loss: 0.4158 - accuracy: 0.8768 - val_loss: 0.4945 - val_accuracy: 0.8556\n",
            "Epoch 22/100\n",
            "125/125 [==============================] - 1s 12ms/step - loss: 0.4088 - accuracy: 0.8786 - val_loss: 0.4864 - val_accuracy: 0.8581\n",
            "Epoch 23/100\n",
            "125/125 [==============================] - 2s 14ms/step - loss: 0.4018 - accuracy: 0.8809 - val_loss: 0.4833 - val_accuracy: 0.8596\n",
            "Epoch 24/100\n",
            "125/125 [==============================] - 2s 12ms/step - loss: 0.3947 - accuracy: 0.8827 - val_loss: 0.4805 - val_accuracy: 0.8600\n",
            "Epoch 25/100\n",
            "125/125 [==============================] - 1s 11ms/step - loss: 0.3884 - accuracy: 0.8844 - val_loss: 0.4803 - val_accuracy: 0.8599\n",
            "Epoch 26/100\n",
            "125/125 [==============================] - 1s 11ms/step - loss: 0.3817 - accuracy: 0.8866 - val_loss: 0.4708 - val_accuracy: 0.8615\n",
            "Epoch 27/100\n",
            "125/125 [==============================] - 1s 12ms/step - loss: 0.3758 - accuracy: 0.8882 - val_loss: 0.4690 - val_accuracy: 0.8624\n",
            "Epoch 28/100\n",
            "125/125 [==============================] - 1s 11ms/step - loss: 0.3700 - accuracy: 0.8895 - val_loss: 0.4648 - val_accuracy: 0.8645\n",
            "Epoch 29/100\n",
            "125/125 [==============================] - 1s 12ms/step - loss: 0.3640 - accuracy: 0.8911 - val_loss: 0.4644 - val_accuracy: 0.8641\n",
            "Epoch 30/100\n",
            "125/125 [==============================] - 1s 11ms/step - loss: 0.3582 - accuracy: 0.8930 - val_loss: 0.4586 - val_accuracy: 0.8652\n",
            "Epoch 31/100\n",
            "125/125 [==============================] - 2s 14ms/step - loss: 0.3531 - accuracy: 0.8945 - val_loss: 0.4579 - val_accuracy: 0.8654\n",
            "Epoch 32/100\n",
            "125/125 [==============================] - 2s 13ms/step - loss: 0.3477 - accuracy: 0.8957 - val_loss: 0.4527 - val_accuracy: 0.8676\n",
            "Epoch 33/100\n",
            "125/125 [==============================] - 1s 11ms/step - loss: 0.3431 - accuracy: 0.8973 - val_loss: 0.4547 - val_accuracy: 0.8661\n",
            "Epoch 34/100\n",
            "125/125 [==============================] - 2s 14ms/step - loss: 0.3377 - accuracy: 0.8988 - val_loss: 0.4545 - val_accuracy: 0.8666\n",
            "Epoch 35/100\n",
            "125/125 [==============================] - 2s 12ms/step - loss: 0.3329 - accuracy: 0.9004 - val_loss: 0.4458 - val_accuracy: 0.8701\n",
            "Epoch 36/100\n",
            "125/125 [==============================] - 1s 11ms/step - loss: 0.3279 - accuracy: 0.9017 - val_loss: 0.4447 - val_accuracy: 0.8694\n",
            "Epoch 37/100\n",
            "125/125 [==============================] - 1s 11ms/step - loss: 0.3233 - accuracy: 0.9031 - val_loss: 0.4433 - val_accuracy: 0.8708\n",
            "Epoch 38/100\n",
            "125/125 [==============================] - 1s 11ms/step - loss: 0.3188 - accuracy: 0.9046 - val_loss: 0.4420 - val_accuracy: 0.8711\n",
            "Epoch 39/100\n",
            "125/125 [==============================] - 2s 12ms/step - loss: 0.3144 - accuracy: 0.9057 - val_loss: 0.4419 - val_accuracy: 0.8714\n",
            "Epoch 40/100\n",
            "125/125 [==============================] - 2s 13ms/step - loss: 0.3099 - accuracy: 0.9072 - val_loss: 0.4395 - val_accuracy: 0.8723\n",
            "Epoch 41/100\n",
            "125/125 [==============================] - 1s 11ms/step - loss: 0.3058 - accuracy: 0.9084 - val_loss: 0.4417 - val_accuracy: 0.8719\n",
            "Epoch 42/100\n",
            "125/125 [==============================] - 1s 11ms/step - loss: 0.3013 - accuracy: 0.9095 - val_loss: 0.4400 - val_accuracy: 0.8729\n",
            "Epoch 43/100\n",
            "125/125 [==============================] - 1s 11ms/step - loss: 0.2970 - accuracy: 0.9108 - val_loss: 0.4378 - val_accuracy: 0.8740\n",
            "Epoch 44/100\n",
            "125/125 [==============================] - 1s 12ms/step - loss: 0.2930 - accuracy: 0.9122 - val_loss: 0.4357 - val_accuracy: 0.8742\n",
            "Epoch 45/100\n",
            "125/125 [==============================] - 1s 11ms/step - loss: 0.2888 - accuracy: 0.9132 - val_loss: 0.4375 - val_accuracy: 0.8744\n",
            "Epoch 46/100\n",
            "125/125 [==============================] - 2s 12ms/step - loss: 0.2853 - accuracy: 0.9145 - val_loss: 0.4361 - val_accuracy: 0.8748\n",
            "Epoch 47/100\n",
            "125/125 [==============================] - 1s 11ms/step - loss: 0.2813 - accuracy: 0.9157 - val_loss: 0.4340 - val_accuracy: 0.8751\n",
            "Epoch 48/100\n",
            "125/125 [==============================] - 2s 13ms/step - loss: 0.2770 - accuracy: 0.9168 - val_loss: 0.4337 - val_accuracy: 0.8760\n",
            "Epoch 49/100\n",
            "125/125 [==============================] - 2s 12ms/step - loss: 0.2731 - accuracy: 0.9179 - val_loss: 0.4389 - val_accuracy: 0.8741\n",
            "Epoch 50/100\n",
            "125/125 [==============================] - 1s 11ms/step - loss: 0.2696 - accuracy: 0.9193 - val_loss: 0.4362 - val_accuracy: 0.8762\n",
            "Epoch 51/100\n",
            "125/125 [==============================] - 1s 12ms/step - loss: 0.2660 - accuracy: 0.9199 - val_loss: 0.4364 - val_accuracy: 0.8755\n",
            "Epoch 52/100\n",
            "125/125 [==============================] - 1s 12ms/step - loss: 0.2628 - accuracy: 0.9209 - val_loss: 0.4351 - val_accuracy: 0.8768\n",
            "Epoch 53/100\n",
            "125/125 [==============================] - 1s 11ms/step - loss: 0.2592 - accuracy: 0.9221 - val_loss: 0.4339 - val_accuracy: 0.8773\n",
            "Epoch 54/100\n",
            "125/125 [==============================] - 1s 12ms/step - loss: 0.2554 - accuracy: 0.9230 - val_loss: 0.4389 - val_accuracy: 0.8759\n",
            "Epoch 55/100\n",
            "125/125 [==============================] - 1s 11ms/step - loss: 0.2568 - accuracy: 0.9228 - val_loss: 0.4365 - val_accuracy: 0.8768\n",
            "Epoch 56/100\n",
            "125/125 [==============================] - 2s 17ms/step - loss: 0.2495 - accuracy: 0.9249 - val_loss: 0.4381 - val_accuracy: 0.8758\n",
            "Epoch 57/100\n",
            "125/125 [==============================] - 3s 21ms/step - loss: 0.2457 - accuracy: 0.9259 - val_loss: 0.4416 - val_accuracy: 0.8754\n",
            "Epoch 58/100\n",
            "125/125 [==============================] - 2s 15ms/step - loss: 0.2422 - accuracy: 0.9270 - val_loss: 0.4388 - val_accuracy: 0.8775\n",
            "Epoch 59/100\n",
            "125/125 [==============================] - 2s 13ms/step - loss: 0.2395 - accuracy: 0.9279 - val_loss: 0.4390 - val_accuracy: 0.8770\n",
            "Epoch 60/100\n",
            "125/125 [==============================] - 1s 11ms/step - loss: 0.2357 - accuracy: 0.9289 - val_loss: 0.4392 - val_accuracy: 0.8778\n",
            "Epoch 61/100\n",
            "125/125 [==============================] - 2s 15ms/step - loss: 0.2329 - accuracy: 0.9295 - val_loss: 0.4416 - val_accuracy: 0.8778\n",
            "Epoch 62/100\n",
            "125/125 [==============================] - 2s 13ms/step - loss: 0.2299 - accuracy: 0.9306 - val_loss: 0.4447 - val_accuracy: 0.8771\n",
            "Epoch 63/100\n",
            "125/125 [==============================] - 2s 18ms/step - loss: 0.2269 - accuracy: 0.9316 - val_loss: 0.4427 - val_accuracy: 0.8780\n",
            "Epoch 64/100\n",
            "125/125 [==============================] - 2s 19ms/step - loss: 0.2236 - accuracy: 0.9325 - val_loss: 0.4444 - val_accuracy: 0.8782\n",
            "Epoch 65/100\n",
            "125/125 [==============================] - 2s 14ms/step - loss: 0.2204 - accuracy: 0.9337 - val_loss: 0.4498 - val_accuracy: 0.8772\n",
            "Epoch 66/100\n",
            "125/125 [==============================] - 1s 11ms/step - loss: 0.2178 - accuracy: 0.9342 - val_loss: 0.4494 - val_accuracy: 0.8777\n",
            "Epoch 67/100\n",
            "125/125 [==============================] - 1s 11ms/step - loss: 0.2144 - accuracy: 0.9351 - val_loss: 0.4467 - val_accuracy: 0.8778\n",
            "Epoch 68/100\n",
            "125/125 [==============================] - 1s 11ms/step - loss: 0.2123 - accuracy: 0.9359 - val_loss: 0.4545 - val_accuracy: 0.8782\n",
            "Epoch 69/100\n",
            "125/125 [==============================] - 1s 11ms/step - loss: 0.2088 - accuracy: 0.9368 - val_loss: 0.4506 - val_accuracy: 0.8782\n",
            "Epoch 70/100\n",
            "125/125 [==============================] - 1s 11ms/step - loss: 0.2062 - accuracy: 0.9375 - val_loss: 0.4577 - val_accuracy: 0.8772\n",
            "Epoch 71/100\n",
            "125/125 [==============================] - 2s 14ms/step - loss: 0.2038 - accuracy: 0.9384 - val_loss: 0.4571 - val_accuracy: 0.8781\n",
            "Epoch 72/100\n",
            "125/125 [==============================] - 2s 13ms/step - loss: 0.2008 - accuracy: 0.9390 - val_loss: 0.4585 - val_accuracy: 0.8777\n",
            "Epoch 73/100\n",
            "125/125 [==============================] - 1s 11ms/step - loss: 0.1985 - accuracy: 0.9402 - val_loss: 0.4601 - val_accuracy: 0.8774\n",
            "Epoch 74/100\n",
            "125/125 [==============================] - 1s 12ms/step - loss: 0.1958 - accuracy: 0.9408 - val_loss: 0.4622 - val_accuracy: 0.8781\n",
            "Epoch 75/100\n",
            "125/125 [==============================] - 1s 11ms/step - loss: 0.1930 - accuracy: 0.9417 - val_loss: 0.4656 - val_accuracy: 0.8789\n",
            "Epoch 76/100\n",
            "125/125 [==============================] - 1s 11ms/step - loss: 0.1905 - accuracy: 0.9423 - val_loss: 0.4665 - val_accuracy: 0.8779\n",
            "Epoch 77/100\n",
            "125/125 [==============================] - 1s 11ms/step - loss: 0.1881 - accuracy: 0.9430 - val_loss: 0.4658 - val_accuracy: 0.8774\n",
            "Epoch 78/100\n",
            "125/125 [==============================] - 1s 11ms/step - loss: 0.1858 - accuracy: 0.9437 - val_loss: 0.4714 - val_accuracy: 0.8774\n",
            "Epoch 79/100\n",
            "125/125 [==============================] - 2s 12ms/step - loss: 0.1827 - accuracy: 0.9447 - val_loss: 0.4752 - val_accuracy: 0.8774\n",
            "Epoch 80/100\n",
            "125/125 [==============================] - 2s 14ms/step - loss: 0.1807 - accuracy: 0.9455 - val_loss: 0.4744 - val_accuracy: 0.8774\n",
            "Epoch 81/100\n",
            "125/125 [==============================] - 1s 11ms/step - loss: 0.1782 - accuracy: 0.9459 - val_loss: 0.4756 - val_accuracy: 0.8777\n",
            "Epoch 82/100\n",
            "125/125 [==============================] - 1s 11ms/step - loss: 0.1763 - accuracy: 0.9466 - val_loss: 0.4787 - val_accuracy: 0.8779\n",
            "Epoch 83/100\n",
            "125/125 [==============================] - 1s 11ms/step - loss: 0.1735 - accuracy: 0.9473 - val_loss: 0.4821 - val_accuracy: 0.8767\n",
            "Epoch 84/100\n",
            "125/125 [==============================] - 1s 12ms/step - loss: 0.1718 - accuracy: 0.9476 - val_loss: 0.4828 - val_accuracy: 0.8774\n",
            "Epoch 85/100\n",
            "125/125 [==============================] - 2s 13ms/step - loss: 0.1693 - accuracy: 0.9484 - val_loss: 0.4808 - val_accuracy: 0.8779\n",
            "Epoch 86/100\n",
            "125/125 [==============================] - 2s 15ms/step - loss: 0.1672 - accuracy: 0.9492 - val_loss: 0.4866 - val_accuracy: 0.8778\n",
            "Epoch 87/100\n",
            "125/125 [==============================] - 2s 14ms/step - loss: 0.1649 - accuracy: 0.9499 - val_loss: 0.4900 - val_accuracy: 0.8768\n",
            "Epoch 88/100\n",
            "125/125 [==============================] - 2s 17ms/step - loss: 0.1627 - accuracy: 0.9506 - val_loss: 0.4898 - val_accuracy: 0.8773\n",
            "Epoch 89/100\n",
            "125/125 [==============================] - 2s 14ms/step - loss: 0.1601 - accuracy: 0.9514 - val_loss: 0.4951 - val_accuracy: 0.8773\n",
            "Epoch 90/100\n",
            "125/125 [==============================] - 2s 13ms/step - loss: 0.1586 - accuracy: 0.9516 - val_loss: 0.4945 - val_accuracy: 0.8771\n",
            "Epoch 91/100\n",
            "125/125 [==============================] - 2s 12ms/step - loss: 0.1566 - accuracy: 0.9523 - val_loss: 0.4992 - val_accuracy: 0.8767\n",
            "Epoch 92/100\n",
            "125/125 [==============================] - 2s 14ms/step - loss: 0.1547 - accuracy: 0.9532 - val_loss: 0.4975 - val_accuracy: 0.8779\n",
            "Epoch 93/100\n",
            "125/125 [==============================] - 1s 11ms/step - loss: 0.1526 - accuracy: 0.9534 - val_loss: 0.5013 - val_accuracy: 0.8776\n",
            "Epoch 94/100\n",
            "125/125 [==============================] - 1s 11ms/step - loss: 0.1507 - accuracy: 0.9542 - val_loss: 0.5045 - val_accuracy: 0.8778\n",
            "Epoch 95/100\n",
            "125/125 [==============================] - 2s 14ms/step - loss: 0.1483 - accuracy: 0.9548 - val_loss: 0.5075 - val_accuracy: 0.8780\n",
            "Epoch 96/100\n",
            "125/125 [==============================] - 2s 13ms/step - loss: 0.1465 - accuracy: 0.9552 - val_loss: 0.5110 - val_accuracy: 0.8770\n",
            "Epoch 97/100\n",
            "125/125 [==============================] - 1s 11ms/step - loss: 0.1454 - accuracy: 0.9556 - val_loss: 0.5132 - val_accuracy: 0.8766\n",
            "Epoch 98/100\n",
            "125/125 [==============================] - 1s 11ms/step - loss: 0.1432 - accuracy: 0.9564 - val_loss: 0.5136 - val_accuracy: 0.8776\n",
            "Epoch 99/100\n",
            "125/125 [==============================] - 1s 11ms/step - loss: 0.1410 - accuracy: 0.9569 - val_loss: 0.5188 - val_accuracy: 0.8772\n",
            "Epoch 100/100\n",
            "125/125 [==============================] - 1s 11ms/step - loss: 0.1394 - accuracy: 0.9576 - val_loss: 0.5204 - val_accuracy: 0.8763\n"
          ]
        },
        {
          "output_type": "execute_result",
          "data": {
            "text/plain": [
              "<keras.src.callbacks.History at 0x7964fdada0e0>"
            ]
          },
          "metadata": {},
          "execution_count": 14
        }
      ]
    },
    {
      "cell_type": "markdown",
      "source": [
        "\n",
        "\n",
        "---\n",
        "\n"
      ],
      "metadata": {
        "id": "IjZqsWDMi0uE"
      }
    },
    {
      "cell_type": "markdown",
      "source": [
        "# **Inference Stage**\n",
        "\n",
        "We have to manually perform inference because, our model had teacher forcing during Training. However, in the Inference Stage, we have to use the output of the previous timestep as the input for next timestep."
      ],
      "metadata": {
        "id": "w-TN4Da_K71A"
      }
    },
    {
      "cell_type": "code",
      "source": [
        "from keras import Model\n",
        "from keras.layers import Input"
      ],
      "metadata": {
        "id": "ZNAgL62TjhSZ"
      },
      "execution_count": null,
      "outputs": []
    },
    {
      "cell_type": "code",
      "source": [
        "# Create an encoder model that takes encoder_inputs and outputs encoder_states.\n",
        "encoder_model = Model(encoder_inputs, encoder_states)\n",
        "\n",
        "# Define input tensors for the initial state of the decoder (hidden state and cell state).\n",
        "decoder_state_input_h = Input(shape=(latent_dim,))\n",
        "decoder_state_input_c = Input(shape=(latent_dim,))\n",
        "decoder_states_inputs = [decoder_state_input_h, decoder_state_input_c]\n",
        "\n",
        "# Connect decoder_inputs to the LSTM decoder using initial states.\n",
        "decoder_outputs, state_h, state_c = decoder_lstm(\n",
        "    decoder_inputs, initial_state=decoder_states_inputs)\n",
        "\n",
        "# Gather the updated decoder states (hidden state and cell state).\n",
        "decoder_states = [state_h, state_c]\n",
        "\n",
        "# Apply the decoder dense layer to obtain the final predictions.\n",
        "decoder_outputs = decoder_dense(decoder_outputs)\n",
        "\n",
        "# Create a decoder model that takes decoder inputs and initial decoder states,\n",
        "# and outputs decoder predictions and updated decoder states.\n",
        "decoder_model = Model(\n",
        "    [decoder_inputs] + decoder_states_inputs,\n",
        "    [decoder_outputs] + decoder_states)\n"
      ],
      "metadata": {
        "id": "RnrAv56RTQTy"
      },
      "execution_count": null,
      "outputs": []
    },
    {
      "cell_type": "code",
      "source": [
        "# Create a dictionary that maps integer indexes to input characters.\n",
        "reverse_input_char_index = dict((i, char) for char, i in input_token_index.items())\n",
        "\n",
        "# Create a dictionary that maps integer indexes to target characters.\n",
        "reverse_target_char_index = dict((i, char) for char, i in target_token_index.items())\n"
      ],
      "metadata": {
        "id": "7pUYPPNNTeI_"
      },
      "execution_count": null,
      "outputs": []
    },
    {
      "cell_type": "code",
      "source": [
        "# decoding the output sentence from output tokenized data\n",
        "def decode_sequence(input_seq):\n",
        "    # Encode the input as state vectors.\n",
        "    states_value = encoder_model.predict(input_seq)\n",
        "\n",
        "    # Generate empty target sequence of length 1.\n",
        "    target_seq = np.zeros((1, 1, num_decoder_tokens))\n",
        "    # Populate the firhttps://colab.research.google.com/drive/1POsKAPn78VkMMTseSTQm1w7a8RsrTa-W#scrollTo=_Az5ZhvbgHQyst character of target sequence with the start character.\n",
        "    target_seq[0, 0, target_token_index[\"\\t\"]] = 1.0\n",
        "\n",
        "    # Sampling loop for a batch of sequences\n",
        "    # (to simplify, here we assume a batch of size 1).\n",
        "    stop_condition = False\n",
        "    decoded_sentence = \"\"\n",
        "    while not stop_condition:\n",
        "        output_tokens, h, c = decoder_model.predict([target_seq] + states_value)\n",
        "\n",
        "        # Sample a token\n",
        "        sampled_token_index = np.argmax(output_tokens[0, -1, :])\n",
        "        sampled_char = reverse_target_char_index[sampled_token_index]\n",
        "        decoded_sentence += sampled_char\n",
        "\n",
        "        # Exit condition: either hit max length\n",
        "        # or find stop character.\n",
        "        if sampled_char == \"\\n\" or len(decoded_sentence) > max_decoder_seq_length:\n",
        "            stop_condition = True\n",
        "\n",
        "        # Update the target sequence (of length 1).\n",
        "        target_seq = np.zeros((1, 1, num_decoder_tokens))\n",
        "        target_seq[0, 0, sampled_token_index] = 1.0\n",
        "\n",
        "        # Update states\n",
        "        states_value = [h, c]\n",
        "    return decoded_sentence\n"
      ],
      "metadata": {
        "id": "FILXjfxLTd4z"
      },
      "execution_count": null,
      "outputs": []
    },
    {
      "cell_type": "markdown",
      "source": [
        "states_value is obtained by encoding the input sequence using the encoder_model.\n",
        "\n",
        "An empty target sequence of length 1 is generated.\n",
        "\n",
        "The first character of the target sequence is populated with the start character.\n",
        "\n",
        "A sampling loop is initiated to generate the output tokens for the sequence. It continues until a stop condition is met, which can be either reaching the maximum length or encountering the stop character.\n",
        "\n",
        "In each iteration of the loop, the decoder_model predicts the output tokens and the corresponding hidden states (h and c). The output_tokens represent the probabilities of each token in the output sequence.\n",
        "\n",
        "The token with the highest probability is selected as the sampled token, and the corresponding character is retrieved using reverse_target_char_index.\n",
        "\n",
        "The sampled character is appended to the decoded_sentence.\n",
        "\n",
        "The loop continues until the stop condition is met.\n",
        "\n",
        "The target sequence is updated by setting the sampled token as the next input.\n",
        "\n",
        "The hidden states (h and c) are updated with the new states.\n",
        "\n",
        "Finally, the decoded_sentence is returned as the output.\n",
        "\n",
        "*   List item\n",
        "*   List item\n",
        "\n"
      ],
      "metadata": {
        "id": "0sWISODRTNil"
      }
    },
    {
      "cell_type": "markdown",
      "source": [
        "# **Testing our Model**"
      ],
      "metadata": {
        "id": "jaiLtJCDT_Up"
      }
    },
    {
      "cell_type": "code",
      "source": [
        "for seq_index in range(20):\n",
        "    # Take one sequence (part of the training set)\n",
        "    # for trying out decoding.\n",
        "    input_seq = encoder_input_data[seq_index : seq_index + 1]\n",
        "    decoded_sentence = decode_sequence(input_seq)\n",
        "    print(\"-\")\n",
        "    print(\"Input sentence:\", input_texts[seq_index])\n",
        "    print(\"Decoded sentence:\", decoded_sentence)"
      ],
      "metadata": {
        "id": "6XGH1FoRUNky",
        "colab": {
          "base_uri": "https://localhost:8080/"
        },
        "outputId": "cc8ad113-62b6-4475-97d6-a3f84f8de8ac"
      },
      "execution_count": null,
      "outputs": [
        {
          "output_type": "stream",
          "name": "stdout",
          "text": [
            "1/1 [==============================] - 0s 418ms/step\n",
            "1/1 [==============================] - 0s 369ms/step\n",
            "1/1 [==============================] - 0s 19ms/step\n",
            "1/1 [==============================] - 0s 23ms/step\n",
            "1/1 [==============================] - 0s 17ms/step\n",
            "1/1 [==============================] - 0s 18ms/step\n",
            "-\n",
            "Input sentence: Go.\n",
            "Decoded sentence: Va !\n",
            "\n",
            "1/1 [==============================] - 0s 19ms/step\n",
            "1/1 [==============================] - 0s 20ms/step\n",
            "1/1 [==============================] - 0s 18ms/step\n",
            "1/1 [==============================] - 0s 19ms/step\n",
            "1/1 [==============================] - 0s 18ms/step\n",
            "1/1 [==============================] - 0s 21ms/step\n",
            "-\n",
            "Input sentence: Go.\n",
            "Decoded sentence: Va !\n",
            "\n",
            "1/1 [==============================] - 0s 20ms/step\n",
            "1/1 [==============================] - 0s 20ms/step\n",
            "1/1 [==============================] - 0s 19ms/step\n",
            "1/1 [==============================] - 0s 18ms/step\n",
            "1/1 [==============================] - 0s 21ms/step\n",
            "1/1 [==============================] - 0s 19ms/step\n",
            "-\n",
            "Input sentence: Go.\n",
            "Decoded sentence: Va !\n",
            "\n",
            "1/1 [==============================] - 0s 18ms/step\n",
            "1/1 [==============================] - 0s 18ms/step\n",
            "1/1 [==============================] - 0s 18ms/step\n",
            "1/1 [==============================] - 0s 19ms/step\n",
            "1/1 [==============================] - 0s 18ms/step\n",
            "1/1 [==============================] - 0s 18ms/step\n",
            "-\n",
            "Input sentence: Go.\n",
            "Decoded sentence: Va !\n",
            "\n",
            "1/1 [==============================] - 0s 16ms/step\n",
            "1/1 [==============================] - 0s 19ms/step\n",
            "1/1 [==============================] - 0s 18ms/step\n",
            "1/1 [==============================] - 0s 24ms/step\n",
            "1/1 [==============================] - 0s 18ms/step\n",
            "1/1 [==============================] - 0s 19ms/step\n",
            "1/1 [==============================] - 0s 21ms/step\n",
            "1/1 [==============================] - 0s 19ms/step\n",
            "-\n",
            "Input sentence: Hi.\n",
            "Decoded sentence: Salut.\n",
            "\n",
            "1/1 [==============================] - 0s 18ms/step\n",
            "1/1 [==============================] - 0s 18ms/step\n",
            "1/1 [==============================] - 0s 18ms/step\n",
            "1/1 [==============================] - 0s 20ms/step\n",
            "1/1 [==============================] - 0s 20ms/step\n",
            "1/1 [==============================] - 0s 20ms/step\n",
            "1/1 [==============================] - 0s 20ms/step\n",
            "1/1 [==============================] - 0s 20ms/step\n",
            "-\n",
            "Input sentence: Hi.\n",
            "Decoded sentence: Salut.\n",
            "\n",
            "1/1 [==============================] - 0s 18ms/step\n",
            "1/1 [==============================] - 0s 19ms/step\n",
            "1/1 [==============================] - 0s 20ms/step\n",
            "1/1 [==============================] - 0s 20ms/step\n",
            "1/1 [==============================] - 0s 38ms/step\n",
            "1/1 [==============================] - 0s 28ms/step\n",
            "1/1 [==============================] - 0s 29ms/step\n",
            "1/1 [==============================] - 0s 35ms/step\n",
            "1/1 [==============================] - 0s 27ms/step\n",
            "-\n",
            "Input sentence: Run!\n",
            "Decoded sentence: Filez !\n",
            "\n",
            "1/1 [==============================] - 0s 27ms/step\n",
            "1/1 [==============================] - 0s 28ms/step\n",
            "1/1 [==============================] - 0s 29ms/step\n",
            "1/1 [==============================] - 0s 28ms/step\n",
            "1/1 [==============================] - 0s 28ms/step\n",
            "1/1 [==============================] - 0s 29ms/step\n",
            "1/1 [==============================] - 0s 34ms/step\n",
            "1/1 [==============================] - 0s 31ms/step\n",
            "1/1 [==============================] - 0s 34ms/step\n",
            "-\n",
            "Input sentence: Run!\n",
            "Decoded sentence: Filez !\n",
            "\n",
            "1/1 [==============================] - 0s 24ms/step\n",
            "1/1 [==============================] - 0s 35ms/step\n",
            "1/1 [==============================] - 0s 30ms/step\n",
            "1/1 [==============================] - 0s 30ms/step\n",
            "1/1 [==============================] - 0s 28ms/step\n",
            "1/1 [==============================] - 0s 32ms/step\n",
            "1/1 [==============================] - 0s 31ms/step\n",
            "1/1 [==============================] - 0s 30ms/step\n",
            "1/1 [==============================] - 0s 32ms/step\n",
            "-\n",
            "Input sentence: Run!\n",
            "Decoded sentence: Filez !\n",
            "\n",
            "1/1 [==============================] - 0s 18ms/step\n",
            "1/1 [==============================] - 0s 19ms/step\n",
            "1/1 [==============================] - 0s 20ms/step\n",
            "1/1 [==============================] - 0s 23ms/step\n",
            "1/1 [==============================] - 0s 19ms/step\n",
            "1/1 [==============================] - 0s 18ms/step\n",
            "1/1 [==============================] - 0s 18ms/step\n",
            "1/1 [==============================] - 0s 18ms/step\n",
            "1/1 [==============================] - 0s 18ms/step\n",
            "-\n",
            "Input sentence: Run!\n",
            "Decoded sentence: Filez !\n",
            "\n",
            "1/1 [==============================] - 0s 19ms/step\n",
            "1/1 [==============================] - 0s 19ms/step\n",
            "1/1 [==============================] - 0s 20ms/step\n",
            "1/1 [==============================] - 0s 18ms/step\n",
            "1/1 [==============================] - 0s 19ms/step\n",
            "1/1 [==============================] - 0s 22ms/step\n",
            "1/1 [==============================] - 0s 22ms/step\n",
            "1/1 [==============================] - 0s 18ms/step\n",
            "1/1 [==============================] - 0s 20ms/step\n",
            "-\n",
            "Input sentence: Run!\n",
            "Decoded sentence: Filez !\n",
            "\n",
            "1/1 [==============================] - 0s 25ms/step\n",
            "1/1 [==============================] - 0s 22ms/step\n",
            "1/1 [==============================] - 0s 21ms/step\n",
            "1/1 [==============================] - 0s 19ms/step\n",
            "1/1 [==============================] - 0s 18ms/step\n",
            "1/1 [==============================] - 0s 19ms/step\n",
            "1/1 [==============================] - 0s 21ms/step\n",
            "1/1 [==============================] - 0s 24ms/step\n",
            "1/1 [==============================] - 0s 20ms/step\n",
            "-\n",
            "Input sentence: Run!\n",
            "Decoded sentence: Filez !\n",
            "\n",
            "1/1 [==============================] - 0s 17ms/step\n",
            "1/1 [==============================] - 0s 19ms/step\n",
            "1/1 [==============================] - 0s 18ms/step\n",
            "1/1 [==============================] - 0s 21ms/step\n",
            "1/1 [==============================] - 0s 19ms/step\n",
            "1/1 [==============================] - 0s 19ms/step\n",
            "1/1 [==============================] - 0s 18ms/step\n",
            "1/1 [==============================] - 0s 18ms/step\n",
            "1/1 [==============================] - 0s 18ms/step\n",
            "-\n",
            "Input sentence: Run!\n",
            "Decoded sentence: Filez !\n",
            "\n",
            "1/1 [==============================] - 0s 17ms/step\n",
            "1/1 [==============================] - 0s 28ms/step\n",
            "1/1 [==============================] - 0s 19ms/step\n",
            "1/1 [==============================] - 0s 19ms/step\n",
            "1/1 [==============================] - 0s 18ms/step\n",
            "1/1 [==============================] - 0s 19ms/step\n",
            "1/1 [==============================] - 0s 18ms/step\n",
            "1/1 [==============================] - 0s 19ms/step\n",
            "1/1 [==============================] - 0s 18ms/step\n",
            "-\n",
            "Input sentence: Run!\n",
            "Decoded sentence: Filez !\n",
            "\n",
            "1/1 [==============================] - 0s 16ms/step\n",
            "1/1 [==============================] - 0s 18ms/step\n",
            "1/1 [==============================] - 0s 18ms/step\n",
            "1/1 [==============================] - 0s 20ms/step\n",
            "1/1 [==============================] - 0s 19ms/step\n",
            "1/1 [==============================] - 0s 18ms/step\n",
            "1/1 [==============================] - 0s 19ms/step\n",
            "1/1 [==============================] - 0s 26ms/step\n",
            "1/1 [==============================] - 0s 21ms/step\n",
            "-\n",
            "Input sentence: Run.\n",
            "Decoded sentence: Fuyez !\n",
            "\n",
            "1/1 [==============================] - 0s 19ms/step\n",
            "1/1 [==============================] - 0s 18ms/step\n",
            "1/1 [==============================] - 0s 18ms/step\n",
            "1/1 [==============================] - 0s 19ms/step\n",
            "1/1 [==============================] - 0s 18ms/step\n",
            "1/1 [==============================] - 0s 18ms/step\n",
            "1/1 [==============================] - 0s 19ms/step\n",
            "1/1 [==============================] - 0s 21ms/step\n",
            "1/1 [==============================] - 0s 18ms/step\n",
            "-\n",
            "Input sentence: Run.\n",
            "Decoded sentence: Fuyez !\n",
            "\n",
            "1/1 [==============================] - 0s 16ms/step\n",
            "1/1 [==============================] - 0s 18ms/step\n",
            "1/1 [==============================] - 0s 18ms/step\n",
            "1/1 [==============================] - 0s 18ms/step\n",
            "1/1 [==============================] - 0s 20ms/step\n",
            "1/1 [==============================] - 0s 18ms/step\n",
            "1/1 [==============================] - 0s 21ms/step\n",
            "1/1 [==============================] - 0s 18ms/step\n",
            "1/1 [==============================] - 0s 18ms/step\n",
            "-\n",
            "Input sentence: Run.\n",
            "Decoded sentence: Fuyez !\n",
            "\n",
            "1/1 [==============================] - 0s 17ms/step\n",
            "1/1 [==============================] - 0s 19ms/step\n",
            "1/1 [==============================] - 0s 21ms/step\n",
            "1/1 [==============================] - 0s 21ms/step\n",
            "1/1 [==============================] - 0s 18ms/step\n",
            "1/1 [==============================] - 0s 18ms/step\n",
            "1/1 [==============================] - 0s 18ms/step\n",
            "1/1 [==============================] - 0s 20ms/step\n",
            "1/1 [==============================] - 0s 18ms/step\n",
            "-\n",
            "Input sentence: Run.\n",
            "Decoded sentence: Fuyez !\n",
            "\n",
            "1/1 [==============================] - 0s 16ms/step\n",
            "1/1 [==============================] - 0s 18ms/step\n",
            "1/1 [==============================] - 0s 19ms/step\n",
            "1/1 [==============================] - 0s 21ms/step\n",
            "1/1 [==============================] - 0s 18ms/step\n",
            "1/1 [==============================] - 0s 18ms/step\n",
            "1/1 [==============================] - 0s 19ms/step\n",
            "1/1 [==============================] - 0s 18ms/step\n",
            "1/1 [==============================] - 0s 19ms/step\n",
            "-\n",
            "Input sentence: Run.\n",
            "Decoded sentence: Fuyez !\n",
            "\n",
            "1/1 [==============================] - 0s 19ms/step\n",
            "1/1 [==============================] - 0s 18ms/step\n",
            "1/1 [==============================] - 0s 19ms/step\n",
            "1/1 [==============================] - 0s 18ms/step\n",
            "1/1 [==============================] - 0s 19ms/step\n",
            "1/1 [==============================] - 0s 19ms/step\n",
            "1/1 [==============================] - 0s 19ms/step\n",
            "1/1 [==============================] - 0s 31ms/step\n",
            "1/1 [==============================] - 0s 20ms/step\n",
            "-\n",
            "Input sentence: Run.\n",
            "Decoded sentence: Fuyez !\n",
            "\n"
          ]
        }
      ]
    },
    {
      "cell_type": "code",
      "source": [
        "for seq_index in range(2):\n",
        "    # Take one sequence (part of the training set)\n",
        "    # for trying out decoding.\n",
        "    input_seq = encoder_input_data[seq_index : seq_index + 1]\n",
        "    decoded_sentence = decode_sequence(input_seq)\n",
        "    print(\"-\")\n",
        "    print(\"Input sentence:\", input_texts[seq_index])\n",
        "    print(\"Decoded sentence:\", decoded_sentence)"
      ],
      "metadata": {
        "id": "zgjdnNtWUY3q",
        "colab": {
          "base_uri": "https://localhost:8080/"
        },
        "outputId": "50e98e80-ebaa-4bb2-f758-775c110b40cd"
      },
      "execution_count": null,
      "outputs": [
        {
          "output_type": "stream",
          "name": "stdout",
          "text": [
            "1/1 [==============================] - 0s 17ms/step\n",
            "1/1 [==============================] - 0s 19ms/step\n",
            "1/1 [==============================] - 0s 20ms/step\n",
            "1/1 [==============================] - 0s 21ms/step\n",
            "1/1 [==============================] - 0s 18ms/step\n",
            "1/1 [==============================] - 0s 22ms/step\n",
            "-\n",
            "Input sentence: Go.\n",
            "Decoded sentence: Va !\n",
            "\n",
            "1/1 [==============================] - 0s 18ms/step\n",
            "1/1 [==============================] - 0s 19ms/step\n",
            "1/1 [==============================] - 0s 18ms/step\n",
            "1/1 [==============================] - 0s 18ms/step\n",
            "1/1 [==============================] - 0s 19ms/step\n",
            "1/1 [==============================] - 0s 22ms/step\n",
            "-\n",
            "Input sentence: Go.\n",
            "Decoded sentence: Va !\n",
            "\n"
          ]
        }
      ]
    },
    {
      "cell_type": "markdown",
      "source": [
        "# **LSTM model on Unseen data  **"
      ],
      "metadata": {
        "id": "qqrBw79MUbzA"
      }
    },
    {
      "cell_type": "code",
      "source": [
        "def decode_sequence(states_value, max_decoder_seq_length):\n",
        "    # Generate empty target sequence of length 1.\n",
        "    target_seq = np.zeros((1, 1, num_decoder_tokens))\n",
        "    # Populate the first character of the target sequence with the start character.\n",
        "    target_seq[0, 0, target_token_index[\"\\t\"]] = 1.0\n",
        "\n",
        "    # Sampling loop for a batch of sequences (assuming batch size 1).\n",
        "    stop_condition = False\n",
        "    decoded_sentence = \"\"\n",
        "    while not stop_condition:\n",
        "        # Predict the output tokens and update hidden states.\n",
        "        output_tokens, h, c = decoder_model.predict([target_seq] + states_value)\n",
        "\n",
        "        # Sample a token by selecting the one with the highest probability.\n",
        "        sampled_token_index = np.argmax(output_tokens[0, -1, :])\n",
        "        sampled_char = reverse_target_char_index[sampled_token_index]\n",
        "        decoded_sentence += sampled_char\n",
        "\n",
        "        # Exit condition: either hit the maximum length\n",
        "        # or find the stop character.\n",
        "        if sampled_char == \"\\n\" or len(decoded_sentence) > max_decoder_seq_length:\n",
        "            stop_condition = True\n",
        "\n",
        "        # Update the target sequence (of length 1).\n",
        "        target_seq = np.zeros((1, 1, num_decoder_tokens))\n",
        "        target_seq[0, 0, sampled_token_index] = 1.0\n",
        "\n",
        "        # Update states\n",
        "        states_value = [h, c]\n",
        "    return decoded_sentence\n"
      ],
      "metadata": {
        "id": "_qOSGNwJU6Hj"
      },
      "execution_count": null,
      "outputs": []
    },
    {
      "cell_type": "code",
      "source": [
        "import numpy as np\n",
        "\n",
        "# Tokenize the input sentence (you may use your tokenizer)\n",
        "def tokenize_input(input_text):\n",
        "    # Implement your tokenization logic here, e.g., using nltk or spaCy\n",
        "    # This is a simplified example, assuming whitespace-based tokenization\n",
        "    return input_text.split()\n",
        "\n",
        "# Convert tokens to one-hot encoded sequences\n",
        "def one_hot_encode(tokens, token_index, max_sequence_length):\n",
        "    num_tokens = len(token_index)\n",
        "    input_seq = np.zeros((1, max_sequence_length, num_tokens), dtype=\"float32\")\n",
        "    for t, token in enumerate(tokens):\n",
        "        token_idx = token_index.get(token, 0)  # Use 0 for unknown tokens\n",
        "        input_seq[0, t, token_idx] = 1.0\n",
        "    return input_seq\n",
        "\n",
        "# Pad the one-hot encoded sequence\n",
        "def pad_sequence(input_seq, max_sequence_length):\n",
        "    if input_seq.shape[1] < max_sequence_length:\n",
        "        pad_width = max_sequence_length - input_seq.shape[1]\n",
        "        input_seq = np.pad(input_seq, ((0, 0), (0, pad_width), (0, 0)), mode='constant')\n",
        "    return input_seq\n",
        "\n",
        "# Preprocess the input sentence\n",
        "def preprocess_input(input_text):\n",
        "    # Tokenize the input text\n",
        "    tokens = tokenize_input(input_text)\n",
        "\n",
        "    # One-hot encode the tokens\n",
        "    input_seq = one_hot_encode(tokens, input_token_index, max_encoder_seq_length)\n",
        "\n",
        "    # Pad the input sequence to match the expected shape\n",
        "    input_seq = pad_sequence(input_seq, max_encoder_seq_length)\n",
        "\n",
        "    return input_seq"
      ],
      "metadata": {
        "id": "L7K_PtwpU5sj"
      },
      "execution_count": null,
      "outputs": []
    },
    {
      "cell_type": "code",
      "source": [
        "while True:\n",
        "    user_input = input(\"Enter a sentence (or 'exit' to quit): \")\n",
        "\n",
        "    if user_input.lower() == 'exit':\n",
        "        break\n",
        "\n",
        "    input_seq = preprocess_input(user_input)  # Preprocess user input\n",
        "    states_value = encoder_model.predict(input_seq)  # Encode user input\n",
        "    decoded_output = decode_sequence(states_value, max_decoder_seq_length)\n",
        "     # Generate output\n",
        "\n",
        "    print(\"Generated Output:\", decoded_output)"
      ],
      "metadata": {
        "id": "NmLUyot0U2U7"
      },
      "execution_count": null,
      "outputs": []
    },
    {
      "cell_type": "markdown",
      "source": [
        "There can be several reasons why our LSTM-based machine translation model performs well on the training data but poorly on unseen data. Here are some common issues:\n",
        "\n",
        "**Data Mismatch:** The training data may not be representative of the unseen data. This can happen if the training data is from a different domain, has a different distribution, or is not large enough to capture the diversity of possible inputs.\n",
        "\n",
        "**Lack of Generalization:** Our model may not be generalizing well from the training data to unseen data\n",
        "\n",
        "Low Quantity of Training Data: **bold text**With a small amount of training data, our model may struggle to generalize effectively and capture the nuances of the translation task.\n",
        "\n",
        "**Missing Attention Mechanism :** Attention mechanisms are crucial for capturing dependencies between different parts of the input and output sequences, especially in long sequences. Without attention, your model may struggle with longer or more complex translations."
      ],
      "metadata": {
        "id": "sinYcbbfVQpS"
      }
    },
    {
      "cell_type": "markdown",
      "source": [
        "**Conclusion¶**\n",
        "The model is trained on Character basis, therefore the model focuses more on the translatory accuracy of each words.\n",
        "We can try testing our model over a different range of data. For that we shall need to change the sequence indexes in the iterator for generating these results."
      ],
      "metadata": {
        "id": "hSOWcuPtVZst"
      }
    }
  ]
}