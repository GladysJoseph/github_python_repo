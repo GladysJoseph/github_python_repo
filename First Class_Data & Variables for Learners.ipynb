{
 "cells": [
  {
   "cell_type": "markdown",
   "id": "7bc45d5f",
   "metadata": {},
   "source": [
    "###  Notes \n",
    "Integers           int.     Whole number                 3 300 200 10                             \n",
    "Floating Points    Float    Nummber decimal              2.3 100.0 2.2\n",
    "String             str      Ordered Sequence Char       \"hello\" 'Sammy'\n",
    "List               list     Ordered Sequence of Obj     [10, \"hello\", \"2.3\"]\n",
    "Dictionaries       dict     Unordered key:value pairs   {'player':'value', \"name\":\"pam\"}\n",
    "Tuples             tup      immutable sequences of obj  (10, \"hello\", 200.0)\n",
    "Sets               set      Collection of unique obj     {\"a\", \"b\"}\n",
    "Booleans           bool     Logical value                True False"
   ]
  },
  {
   "cell_type": "markdown",
   "id": "851336a6",
   "metadata": {},
   "source": [
    "### Integers"
   ]
  },
  {
   "cell_type": "code",
   "execution_count": 18,
   "id": "051a6f66",
   "metadata": {},
   "outputs": [
    {
     "data": {
      "text/plain": [
       "3"
      ]
     },
     "execution_count": 18,
     "metadata": {},
     "output_type": "execute_result"
    }
   ],
   "source": [
    "2+1"
   ]
  },
  {
   "cell_type": "code",
   "execution_count": 19,
   "id": "20003d00",
   "metadata": {},
   "outputs": [
    {
     "data": {
      "text/plain": [
       "1"
      ]
     },
     "execution_count": 19,
     "metadata": {},
     "output_type": "execute_result"
    }
   ],
   "source": [
    "2-1"
   ]
  },
  {
   "cell_type": "code",
   "execution_count": 20,
   "id": "a2957e11",
   "metadata": {},
   "outputs": [
    {
     "data": {
      "text/plain": [
       "4"
      ]
     },
     "execution_count": 20,
     "metadata": {},
     "output_type": "execute_result"
    }
   ],
   "source": [
    "2*2"
   ]
  },
  {
   "cell_type": "code",
   "execution_count": 21,
   "id": "fa63801c",
   "metadata": {},
   "outputs": [
    {
     "data": {
      "text/plain": [
       "1.5"
      ]
     },
     "execution_count": 21,
     "metadata": {},
     "output_type": "execute_result"
    }
   ],
   "source": [
    "3/2       #Result Equals a Float"
   ]
  },
  {
   "cell_type": "code",
   "execution_count": null,
   "id": "78efba84",
   "metadata": {},
   "outputs": [],
   "source": []
  },
  {
   "cell_type": "code",
   "execution_count": null,
   "id": "56286cde",
   "metadata": {},
   "outputs": [],
   "source": []
  },
  {
   "cell_type": "code",
   "execution_count": null,
   "id": "100e0b20",
   "metadata": {},
   "outputs": [],
   "source": []
  },
  {
   "cell_type": "code",
   "execution_count": null,
   "id": "630a32d4",
   "metadata": {},
   "outputs": [],
   "source": []
  },
  {
   "cell_type": "code",
   "execution_count": null,
   "id": "ac20085c",
   "metadata": {},
   "outputs": [],
   "source": []
  },
  {
   "cell_type": "code",
   "execution_count": null,
   "id": "28cc0ceb",
   "metadata": {},
   "outputs": [],
   "source": []
  },
  {
   "cell_type": "code",
   "execution_count": null,
   "id": "81ad48de",
   "metadata": {},
   "outputs": [],
   "source": []
  },
  {
   "cell_type": "markdown",
   "id": "58fee588",
   "metadata": {},
   "source": [
    "### Float- converts a string to a "
   ]
  },
  {
   "cell_type": "code",
   "execution_count": 42,
   "id": "14a72fb6",
   "metadata": {},
   "outputs": [],
   "source": [
    "x_str = \"3.14\"\n"
   ]
  },
  {
   "cell_type": "code",
   "execution_count": 44,
   "id": "ffdbab0a",
   "metadata": {},
   "outputs": [
    {
     "data": {
      "text/plain": [
       "'3.14'"
      ]
     },
     "execution_count": 44,
     "metadata": {},
     "output_type": "execute_result"
    }
   ],
   "source": [
    "x_str  # 3.14"
   ]
  },
  {
   "cell_type": "code",
   "execution_count": null,
   "id": "b887fad6",
   "metadata": {},
   "outputs": [],
   "source": [
    "###   ModularNumber - is remainder - it takes a \" %\" sign"
   ]
  },
  {
   "cell_type": "code",
   "execution_count": 2,
   "id": "a7ea0100",
   "metadata": {
    "scrolled": true
   },
   "outputs": [
    {
     "data": {
      "text/plain": [
       "1.75"
      ]
     },
     "execution_count": 2,
     "metadata": {},
     "output_type": "execute_result"
    }
   ],
   "source": [
    "7/4"
   ]
  },
  {
   "cell_type": "code",
   "execution_count": 4,
   "id": "db5e6d2f",
   "metadata": {},
   "outputs": [
    {
     "data": {
      "text/plain": [
       "3"
      ]
     },
     "execution_count": 4,
     "metadata": {},
     "output_type": "execute_result"
    }
   ],
   "source": [
    "7 % 4"
   ]
  },
  {
   "cell_type": "code",
   "execution_count": 5,
   "id": "b45dc934",
   "metadata": {},
   "outputs": [
    {
     "data": {
      "text/plain": [
       "0"
      ]
     },
     "execution_count": 5,
     "metadata": {},
     "output_type": "execute_result"
    }
   ],
   "source": [
    "50 %  5"
   ]
  },
  {
   "cell_type": "code",
   "execution_count": 6,
   "id": "89baad57",
   "metadata": {},
   "outputs": [
    {
     "data": {
      "text/plain": [
       "1"
      ]
     },
     "execution_count": 6,
     "metadata": {},
     "output_type": "execute_result"
    }
   ],
   "source": [
    "23 % 2"
   ]
  },
  {
   "cell_type": "markdown",
   "id": "623c28f5",
   "metadata": {},
   "source": [
    "### Powers order of operation-  calculates the result of raising the number 2 to the power of 3. In this case, it calculates 2 raised to the 3rd power"
   ]
  },
  {
   "cell_type": "code",
   "execution_count": 7,
   "id": "7335d02c",
   "metadata": {},
   "outputs": [
    {
     "data": {
      "text/plain": [
       "8"
      ]
     },
     "execution_count": 7,
     "metadata": {},
     "output_type": "execute_result"
    }
   ],
   "source": [
    "2**3"
   ]
  },
  {
   "cell_type": "code",
   "execution_count": 8,
   "id": "64c10214",
   "metadata": {},
   "outputs": [
    {
     "data": {
      "text/plain": [
       "105"
      ]
     },
     "execution_count": 8,
     "metadata": {},
     "output_type": "execute_result"
    }
   ],
   "source": [
    "2+10*10+3"
   ]
  },
  {
   "cell_type": "code",
   "execution_count": 9,
   "id": "bb5049bf",
   "metadata": {},
   "outputs": [
    {
     "data": {
      "text/plain": [
       "156"
      ]
     },
     "execution_count": 9,
     "metadata": {},
     "output_type": "execute_result"
    }
   ],
   "source": [
    "(2+10)*(10+3)"
   ]
  },
  {
   "cell_type": "markdown",
   "id": "7105cb2f",
   "metadata": {},
   "source": [
    "### Assigning numbers"
   ]
  },
  {
   "cell_type": "code",
   "execution_count": null,
   "id": "d77c3802",
   "metadata": {},
   "outputs": [],
   "source": [
    "Rules for variable names\n",
    "    Names can’t start with a number.  \t\n",
    "    There’s no space, Use____\t\t\n",
    "    Can’t use :”,/?\\|!@#$%^&*()~_+\t\n",
    "    try to use lower case\t\t\n",
    "\n",
    "    Avoid using special words like   list, str\n",
    "\n",
    "What is ok\n",
    "    \n",
    "    Assigning a variable \n",
    "\tmy_dogs=2\n",
    "\n",
    "    reassignment\n",
    "\tmy_dogs=[“Sammy”, “Frankie”]\n",
    "    \n",
    "Python is not statically typed\n"
   ]
  },
  {
   "cell_type": "markdown",
   "id": "212e239d",
   "metadata": {},
   "source": [
    "### Assignment Operators "
   ]
  },
  {
   "cell_type": "code",
   "execution_count": 28,
   "id": "5125aee6",
   "metadata": {},
   "outputs": [],
   "source": [
    "a=5\n",
    "c=2"
   ]
  },
  {
   "cell_type": "markdown",
   "id": "5f6831a4",
   "metadata": {},
   "source": [
    "a"
   ]
  },
  {
   "cell_type": "code",
   "execution_count": 29,
   "id": "58d39f1c",
   "metadata": {},
   "outputs": [
    {
     "data": {
      "text/plain": [
       "2"
      ]
     },
     "execution_count": 29,
     "metadata": {},
     "output_type": "execute_result"
    }
   ],
   "source": [
    "c"
   ]
  },
  {
   "cell_type": "markdown",
   "id": "05f86d2e",
   "metadata": {},
   "source": [
    "### Comparison Operators gives you a boolean value\n",
    "1.Equal (==): Checks if two values are equal.\n",
    "2.Not Equal (!=): Checks if two values are not equal.\n",
    "3.Less Than (<): Checks if a value is less than another value.\n",
    "4.Greater Than (>): Checks if a value is greater than another value.\n",
    "5.Less Than or Equal To (<=): Checks if a value is less than or equal to another value.\n",
    "6.Greater Than or Equal To (>=): Checks if a value is greater than or equal to another value.\n"
   ]
  },
  {
   "cell_type": "code",
   "execution_count": 30,
   "id": "00b0bf1c",
   "metadata": {},
   "outputs": [
    {
     "name": "stdout",
     "output_type": "stream",
     "text": [
      "x and y are equal\n"
     ]
    }
   ],
   "source": [
    "#Equal (==): Checks if two values are equal.\n",
    "x = 5\n",
    "y = 5\n",
    "\n",
    "if x == y:\n",
    "    print(\"x and y are equal\")\n",
    "else:\n",
    "    print(\"x and y are not equal\")"
   ]
  },
  {
   "cell_type": "code",
   "execution_count": null,
   "id": "898af9cf",
   "metadata": {},
   "outputs": [],
   "source": [
    "###Boolean"
   ]
  },
  {
   "cell_type": "code",
   "execution_count": null,
   "id": "2adc3e9d",
   "metadata": {},
   "outputs": [],
   "source": [
    "# 1. Equal (==): Checks if two values are equal.\n",
    "x = 5\n",
    "y = 5\n",
    "result = (x == y) "
   ]
  },
  {
   "cell_type": "code",
   "execution_count": 38,
   "id": "d511d5ee",
   "metadata": {},
   "outputs": [
    {
     "data": {
      "text/plain": [
       "True"
      ]
     },
     "execution_count": 38,
     "metadata": {},
     "output_type": "execute_result"
    }
   ],
   "source": [
    " (x == y)"
   ]
  },
  {
   "cell_type": "code",
   "execution_count": 33,
   "id": "fbc8de46",
   "metadata": {},
   "outputs": [],
   "source": [
    "# 2.Not Equal (!=): Checks if two values are not equal.\n",
    "x = 5\n",
    "y = 10\n",
    "result = (x != y) "
   ]
  },
  {
   "cell_type": "code",
   "execution_count": 35,
   "id": "b338f9c5",
   "metadata": {},
   "outputs": [],
   "source": [
    "#3.Less Than (<): Checks if a value is less than another value.\n",
    "x = 5\n",
    "y = 10\n",
    "result = (x < y)  # True"
   ]
  },
  {
   "cell_type": "code",
   "execution_count": null,
   "id": "697aa8c6",
   "metadata": {},
   "outputs": [],
   "source": [
    "4. Greater Than (>): Checks if a value is greater than another value.\n",
    "x = 10\n",
    "y = 5\n",
    "result = (x > y)  # True"
   ]
  },
  {
   "cell_type": "code",
   "execution_count": 39,
   "id": "d3c723f9",
   "metadata": {},
   "outputs": [],
   "source": [
    "5.Less Than or Equal To (<=): Checks if a value is less than or equal to another value.\n",
    "x = 5\n",
    "y = 5\n",
    "result = (x <= y)  # True"
   ]
  },
  {
   "cell_type": "code",
   "execution_count": null,
   "id": "039908f9",
   "metadata": {},
   "outputs": [],
   "source": [
    "6. Greater Than or Equal To (>=): Checks if a value is greater than or equal to another value.\n",
    "x = 10\n",
    "y = 5\n",
    "result = (x >= y)  # True"
   ]
  },
  {
   "cell_type": "code",
   "execution_count": 2,
   "id": "2676a7ca",
   "metadata": {},
   "outputs": [],
   "source": [
    "result = bool(42)  # True\n",
    "#bool(): Converts an object to a Boolean value (True or False)."
   ]
  },
  {
   "cell_type": "code",
   "execution_count": 4,
   "id": "5bd32b1f",
   "metadata": {},
   "outputs": [
    {
     "data": {
      "text/plain": [
       "True"
      ]
     },
     "execution_count": 4,
     "metadata": {},
     "output_type": "execute_result"
    }
   ],
   "source": [
    "result"
   ]
  },
  {
   "cell_type": "markdown",
   "id": "bee8fb68",
   "metadata": {},
   "source": [
    "len(): Returns the length (number of items) of an object\n",
    "input(): Reads a line of text from the user.\n",
    "type(): Returns the data type of an object.\n",
    "str(): Converts an object to a string"
   ]
  },
  {
   "cell_type": "code",
   "execution_count": null,
   "id": "47e2cd91",
   "metadata": {},
   "outputs": [],
   "source": [
    "#len(): Returns the length (number of items) of an object.\n",
    "my_list = [1, 2, 3, 4, 5]\n",
    "length = len(my_list)  # 5"
   ]
  },
  {
   "cell_type": "code",
   "execution_count": null,
   "id": "1cfa0550",
   "metadata": {},
   "outputs": [],
   "source": [
    "#input(): Reads a line of text from the user.\n",
    "name = input(\"Enter your name: \")"
   ]
  },
  {
   "cell_type": "code",
   "execution_count": null,
   "id": "20473bfd",
   "metadata": {},
   "outputs": [],
   "source": [
    "#type(): Returns the data type of an object.\n",
    "x = 5\n",
    "data_type = type(x)  # <class 'int'>"
   ]
  },
  {
   "cell_type": "code",
   "execution_count": null,
   "id": "56e39a51",
   "metadata": {},
   "outputs": [],
   "source": [
    "#str(): Converts an object to a string.\n",
    "x = 5\n",
    "data_type = type(x)  # <class 'int'>"
   ]
  },
  {
   "cell_type": "code",
   "execution_count": null,
   "id": "51890cbb",
   "metadata": {},
   "outputs": [],
   "source": [
    "#int(): Converts a string or a number to an integer.\n",
    "x_str = \"42\"\n",
    "x = int(x_str)  # 42"
   ]
  },
  {
   "cell_type": "code",
   "execution_count": null,
   "id": "1c468cda",
   "metadata": {},
   "outputs": [],
   "source": [
    "#tuple(): Creates a tuple from an iterable.\n",
    "my_tuple = (1, 2, 3)\n",
    "my_list = list(my_tuple)  # [1, 2, 3]"
   ]
  },
  {
   "cell_type": "code",
   "execution_count": null,
   "id": "17fd7796",
   "metadata": {},
   "outputs": [],
   "source": [
    "#range(): Generates a sequence of numbers.\n",
    "numbers = range(1, 6)  # Generates 1, 2, 3, 4, 5"
   ]
  },
  {
   "cell_type": "code",
   "execution_count": null,
   "id": "f904dfa7",
   "metadata": {},
   "outputs": [],
   "source": [
    "#max(): Returns the maximum value in an iterable.\n",
    "my_list = [3, 1, 4, 1, 5, 9, 2, 6, 5, 3, 5]\n",
    "maximum = max(my_list)  # 9"
   ]
  },
  {
   "cell_type": "code",
   "execution_count": null,
   "id": "e72850b1",
   "metadata": {},
   "outputs": [],
   "source": [
    "#min(): Returns the minimum value in an iterable.\n",
    "my_list = [3, 1, 4, 1, 5, 9, 2, 6, 5, 3, 5]\n",
    "minimum = min(my_list)  # 1"
   ]
  },
  {
   "cell_type": "code",
   "execution_count": null,
   "id": "b03efa95",
   "metadata": {},
   "outputs": [],
   "source": [
    "#sum(): Returns the sum of elements in an iterable.\n",
    "my_list = [1, 2, 3, 4, 5]\n",
    "total = sum(my_list)  # 15"
   ]
  },
  {
   "cell_type": "code",
   "execution_count": null,
   "id": "b07121e2",
   "metadata": {},
   "outputs": [],
   "source": [
    "#round(): Rounds a floating-point number to a specified number of decimal places.\n",
    "pi = 3.14159265359\n",
    "rounded_pi = round(pi, 2)  # 3.14"
   ]
  },
  {
   "cell_type": "code",
   "execution_count": null,
   "id": "610e743c",
   "metadata": {},
   "outputs": [],
   "source": [
    "my_list = [3, 1, 4, 1, 5, 9, 2, 6, 5, 3, 5]\n",
    "sorted_list = sorted(my_list)  # [1, 1, 2, 3, 3, 4, 5, 5, 5, 6, 9]"
   ]
  },
  {
   "cell_type": "code",
   "execution_count": null,
   "id": "eb97a054",
   "metadata": {},
   "outputs": [],
   "source": [
    "my_list = [False, False, True, False]\n",
    "result = any(my_list)  # True"
   ]
  },
  {
   "cell_type": "code",
   "execution_count": null,
   "id": "99fe28e2",
   "metadata": {},
   "outputs": [],
   "source": [
    "my_list = [True, True, False, True]\n",
    "result = all(my_list)  # False"
   ]
  },
  {
   "cell_type": "code",
   "execution_count": null,
   "id": "1bbf4c8f",
   "metadata": {},
   "outputs": [],
   "source": [
    "result = pow(2, 3)  # 8 (2 raised to the power of 3)"
   ]
  },
  {
   "cell_type": "code",
   "execution_count": null,
   "id": "e8aaa067",
   "metadata": {},
   "outputs": [],
   "source": [
    "#enumerate(): Returns an iterator that generates pairs of index and value from an iterable\n",
    "my_list = [\"apple\", \"banana\", \"cherry\"]\n",
    "enumerated_data = enumerate(my_list)  # [(0, 'apple'), (1, 'banana'), (2, 'cherry')]"
   ]
  },
  {
   "cell_type": "code",
   "execution_count": null,
   "id": "6698ec6e",
   "metadata": {},
   "outputs": [],
   "source": [
    "#dir(): Returns a list of attributes and methods of an object.\n",
    "my_list = [1, 2, 3]\n",
    "attributes_and_methods = dir(my_list)"
   ]
  },
  {
   "cell_type": "code",
   "execution_count": null,
   "id": "e0108020",
   "metadata": {},
   "outputs": [],
   "source": [
    "#filter(): Filters elements from an iterable based on a function's condition.\n",
    "def square(x):\n",
    "    return x * x\n",
    "\n",
    "numbers = [1, 2, 3, 4, 5]\n",
    "squared_numbers = map(square, numbers)  # [1, 4, 9, 16, 25]"
   ]
  },
  {
   "cell_type": "code",
   "execution_count": null,
   "id": "4c79ee92",
   "metadata": {},
   "outputs": [],
   "source": [
    "#filter(): Filters elements from an iterable based on a function's condition.\n",
    " \n",
    "def is_even(x):\n",
    "    return x % 2 == 0\n",
    "\n",
    "numbers = [1, 2, 3, 4, 5]\n",
    "even_numbers = filter(is_even, numbers)  # [2, 4]"
   ]
  }
 ],
 "metadata": {
  "kernelspec": {
   "display_name": "Python 3 (ipykernel)",
   "language": "python",
   "name": "python3"
  },
  "language_info": {
   "codemirror_mode": {
    "name": "ipython",
    "version": 3
   },
   "file_extension": ".py",
   "mimetype": "text/x-python",
   "name": "python",
   "nbconvert_exporter": "python",
   "pygments_lexer": "ipython3",
   "version": "3.11.4"
  }
 },
 "nbformat": 4,
 "nbformat_minor": 5
}
