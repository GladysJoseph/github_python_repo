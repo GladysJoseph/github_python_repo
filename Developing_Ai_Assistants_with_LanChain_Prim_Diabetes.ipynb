{
  "nbformat": 4,
  "nbformat_minor": 0,
  "metadata": {
    "colab": {
      "provenance": [],
      "collapsed_sections": [
        "L0tXqaGuntVu"
      ],
      "mount_file_id": "1l153rAmGlT1lWeX-WyJEr-AhWeJLCETY",
      "authorship_tag": "ABX9TyOCtmcYInFdpG/7KFBrq/Kq",
      "include_colab_link": true
    },
    "kernelspec": {
      "name": "python3",
      "display_name": "Python 3"
    },
    "language_info": {
      "name": "python"
    }
  },
  "cells": [
    {
      "cell_type": "markdown",
      "metadata": {
        "id": "view-in-github",
        "colab_type": "text"
      },
      "source": [
        "<a href=\"https://colab.research.google.com/github/GladysJoseph/github_python_repo/blob/main/Developing_Ai_Assistants_with_LanChain_Prim_Diabetes.ipynb\" target=\"_parent\"><img src=\"https://colab.research.google.com/assets/colab-badge.svg\" alt=\"Open In Colab\"/></a>"
      ]
    },
    {
      "cell_type": "markdown",
      "source": [
        "# **Developing_AI_Assistints with LangChain**\n",
        "\n",
        "Prima_Diabetes\n",
        "\n",
        "Gladys Joseph\n",
        "April 14, 2024"
      ],
      "metadata": {
        "id": "L0tXqaGuntVu"
      }
    },
    {
      "cell_type": "markdown",
      "source": [],
      "metadata": {
        "id": "zgUM5Zvents0"
      }
    },
    {
      "cell_type": "code",
      "source": [
        "!pip install tiktoken;\n",
        "!pip install openai==1.7.1;\n",
        "!pip install pypdf;\n",
        "!pip install faiss-gpu;\n",
        "!pip install google-search-results;\n",
        "!pip install cohere;\n",
        "!pip install pandas;\n",
        "!pip install matplotlib;\n",
        "!pip install seaborn;\n",
        "!pip install langchain_experimental==0.0.49 langchain==0.1.0 langchain-core==0.1.10;"
      ],
      "metadata": {
        "colab": {
          "base_uri": "https://localhost:8080/"
        },
        "id": "ToR2In4ZnyFP",
        "outputId": "274e1cfb-5912-47d5-e3b6-7d1c19df984e"
      },
      "execution_count": null,
      "outputs": [
        {
          "output_type": "stream",
          "name": "stdout",
          "text": [
            "Collecting tiktoken\n",
            "  Downloading tiktoken-0.6.0-cp310-cp310-manylinux_2_17_x86_64.manylinux2014_x86_64.whl (1.8 MB)\n",
            "\u001b[2K     \u001b[90m━━━━━━━━━━━━━━━━━━━━━━━━━━━━━━━━━━━━━━━━\u001b[0m \u001b[32m1.8/1.8 MB\u001b[0m \u001b[31m23.6 MB/s\u001b[0m eta \u001b[36m0:00:00\u001b[0m\n",
            "\u001b[?25hRequirement already satisfied: regex>=2022.1.18 in /usr/local/lib/python3.10/dist-packages (from tiktoken) (2023.12.25)\n",
            "Requirement already satisfied: requests>=2.26.0 in /usr/local/lib/python3.10/dist-packages (from tiktoken) (2.31.0)\n",
            "Requirement already satisfied: charset-normalizer<4,>=2 in /usr/local/lib/python3.10/dist-packages (from requests>=2.26.0->tiktoken) (3.3.2)\n",
            "Requirement already satisfied: idna<4,>=2.5 in /usr/local/lib/python3.10/dist-packages (from requests>=2.26.0->tiktoken) (3.6)\n",
            "Requirement already satisfied: urllib3<3,>=1.21.1 in /usr/local/lib/python3.10/dist-packages (from requests>=2.26.0->tiktoken) (2.0.7)\n",
            "Requirement already satisfied: certifi>=2017.4.17 in /usr/local/lib/python3.10/dist-packages (from requests>=2.26.0->tiktoken) (2024.2.2)\n",
            "Installing collected packages: tiktoken\n",
            "Successfully installed tiktoken-0.6.0\n",
            "Collecting openai==1.7.1\n",
            "  Downloading openai-1.7.1-py3-none-any.whl (224 kB)\n",
            "\u001b[2K     \u001b[90m━━━━━━━━━━━━━━━━━━━━━━━━━━━━━━━━━━━━━━━━\u001b[0m \u001b[32m224.9/224.9 kB\u001b[0m \u001b[31m4.7 MB/s\u001b[0m eta \u001b[36m0:00:00\u001b[0m\n",
            "\u001b[?25hRequirement already satisfied: anyio<5,>=3.5.0 in /usr/local/lib/python3.10/dist-packages (from openai==1.7.1) (3.7.1)\n",
            "Requirement already satisfied: distro<2,>=1.7.0 in /usr/lib/python3/dist-packages (from openai==1.7.1) (1.7.0)\n",
            "Collecting httpx<1,>=0.23.0 (from openai==1.7.1)\n",
            "  Downloading httpx-0.27.0-py3-none-any.whl (75 kB)\n",
            "\u001b[2K     \u001b[90m━━━━━━━━━━━━━━━━━━━━━━━━━━━━━━━━━━━━━━━━\u001b[0m \u001b[32m75.6/75.6 kB\u001b[0m \u001b[31m9.0 MB/s\u001b[0m eta \u001b[36m0:00:00\u001b[0m\n",
            "\u001b[?25hRequirement already satisfied: pydantic<3,>=1.9.0 in /usr/local/lib/python3.10/dist-packages (from openai==1.7.1) (2.6.4)\n",
            "Requirement already satisfied: sniffio in /usr/local/lib/python3.10/dist-packages (from openai==1.7.1) (1.3.1)\n",
            "Requirement already satisfied: tqdm>4 in /usr/local/lib/python3.10/dist-packages (from openai==1.7.1) (4.66.2)\n",
            "Requirement already satisfied: typing-extensions<5,>=4.7 in /usr/local/lib/python3.10/dist-packages (from openai==1.7.1) (4.11.0)\n",
            "Requirement already satisfied: idna>=2.8 in /usr/local/lib/python3.10/dist-packages (from anyio<5,>=3.5.0->openai==1.7.1) (3.6)\n",
            "Requirement already satisfied: exceptiongroup in /usr/local/lib/python3.10/dist-packages (from anyio<5,>=3.5.0->openai==1.7.1) (1.2.0)\n",
            "Requirement already satisfied: certifi in /usr/local/lib/python3.10/dist-packages (from httpx<1,>=0.23.0->openai==1.7.1) (2024.2.2)\n",
            "Collecting httpcore==1.* (from httpx<1,>=0.23.0->openai==1.7.1)\n",
            "  Downloading httpcore-1.0.5-py3-none-any.whl (77 kB)\n",
            "\u001b[2K     \u001b[90m━━━━━━━━━━━━━━━━━━━━━━━━━━━━━━━━━━━━━━━━\u001b[0m \u001b[32m77.9/77.9 kB\u001b[0m \u001b[31m9.8 MB/s\u001b[0m eta \u001b[36m0:00:00\u001b[0m\n",
            "\u001b[?25hCollecting h11<0.15,>=0.13 (from httpcore==1.*->httpx<1,>=0.23.0->openai==1.7.1)\n",
            "  Downloading h11-0.14.0-py3-none-any.whl (58 kB)\n",
            "\u001b[2K     \u001b[90m━━━━━━━━━━━━━━━━━━━━━━━━━━━━━━━━━━━━━━━━\u001b[0m \u001b[32m58.3/58.3 kB\u001b[0m \u001b[31m6.2 MB/s\u001b[0m eta \u001b[36m0:00:00\u001b[0m\n",
            "\u001b[?25hRequirement already satisfied: annotated-types>=0.4.0 in /usr/local/lib/python3.10/dist-packages (from pydantic<3,>=1.9.0->openai==1.7.1) (0.6.0)\n",
            "Requirement already satisfied: pydantic-core==2.16.3 in /usr/local/lib/python3.10/dist-packages (from pydantic<3,>=1.9.0->openai==1.7.1) (2.16.3)\n",
            "Installing collected packages: h11, httpcore, httpx, openai\n",
            "Successfully installed h11-0.14.0 httpcore-1.0.5 httpx-0.27.0 openai-1.7.1\n",
            "Collecting pypdf\n",
            "  Downloading pypdf-4.2.0-py3-none-any.whl (290 kB)\n",
            "\u001b[2K     \u001b[90m━━━━━━━━━━━━━━━━━━━━━━━━━━━━━━━━━━━━━━━━\u001b[0m \u001b[32m290.4/290.4 kB\u001b[0m \u001b[31m6.2 MB/s\u001b[0m eta \u001b[36m0:00:00\u001b[0m\n",
            "\u001b[?25hRequirement already satisfied: typing_extensions>=4.0 in /usr/local/lib/python3.10/dist-packages (from pypdf) (4.11.0)\n",
            "Installing collected packages: pypdf\n",
            "Successfully installed pypdf-4.2.0\n",
            "Collecting faiss-gpu\n",
            "  Downloading faiss_gpu-1.7.2-cp310-cp310-manylinux_2_17_x86_64.manylinux2014_x86_64.whl (85.5 MB)\n",
            "\u001b[2K     \u001b[90m━━━━━━━━━━━━━━━━━━━━━━━━━━━━━━━━━━━━━━━━\u001b[0m \u001b[32m85.5/85.5 MB\u001b[0m \u001b[31m7.9 MB/s\u001b[0m eta \u001b[36m0:00:00\u001b[0m\n",
            "\u001b[?25hInstalling collected packages: faiss-gpu\n",
            "Successfully installed faiss-gpu-1.7.2\n",
            "Collecting google-search-results\n",
            "  Downloading google_search_results-2.4.2.tar.gz (18 kB)\n",
            "  Preparing metadata (setup.py) ... \u001b[?25l\u001b[?25hdone\n",
            "Requirement already satisfied: requests in /usr/local/lib/python3.10/dist-packages (from google-search-results) (2.31.0)\n",
            "Requirement already satisfied: charset-normalizer<4,>=2 in /usr/local/lib/python3.10/dist-packages (from requests->google-search-results) (3.3.2)\n",
            "Requirement already satisfied: idna<4,>=2.5 in /usr/local/lib/python3.10/dist-packages (from requests->google-search-results) (3.6)\n",
            "Requirement already satisfied: urllib3<3,>=1.21.1 in /usr/local/lib/python3.10/dist-packages (from requests->google-search-results) (2.0.7)\n",
            "Requirement already satisfied: certifi>=2017.4.17 in /usr/local/lib/python3.10/dist-packages (from requests->google-search-results) (2024.2.2)\n",
            "Building wheels for collected packages: google-search-results\n",
            "  Building wheel for google-search-results (setup.py) ... \u001b[?25l\u001b[?25hdone\n",
            "  Created wheel for google-search-results: filename=google_search_results-2.4.2-py3-none-any.whl size=32004 sha256=30b5007be12ac894b03dbcdec3b4c643e653e1b4fc9c5782e221eef3e64910f1\n",
            "  Stored in directory: /root/.cache/pip/wheels/d3/b2/c3/03302d12bb44a2cdff3c9371f31b72c0c4e84b8d2285eeac53\n",
            "Successfully built google-search-results\n",
            "Installing collected packages: google-search-results\n",
            "Successfully installed google-search-results-2.4.2\n",
            "Collecting cohere\n",
            "  Downloading cohere-5.2.5-py3-none-any.whl (150 kB)\n",
            "\u001b[2K     \u001b[90m━━━━━━━━━━━━━━━━━━━━━━━━━━━━━━━━━━━━━━━━\u001b[0m \u001b[32m150.6/150.6 kB\u001b[0m \u001b[31m3.4 MB/s\u001b[0m eta \u001b[36m0:00:00\u001b[0m\n",
            "\u001b[?25hCollecting fastavro<2.0.0,>=1.9.4 (from cohere)\n",
            "  Downloading fastavro-1.9.4-cp310-cp310-manylinux_2_17_x86_64.manylinux2014_x86_64.whl (3.1 MB)\n",
            "\u001b[2K     \u001b[90m━━━━━━━━━━━━━━━━━━━━━━━━━━━━━━━━━━━━━━━━\u001b[0m \u001b[32m3.1/3.1 MB\u001b[0m \u001b[31m57.0 MB/s\u001b[0m eta \u001b[36m0:00:00\u001b[0m\n",
            "\u001b[?25hRequirement already satisfied: httpx>=0.21.2 in /usr/local/lib/python3.10/dist-packages (from cohere) (0.27.0)\n",
            "Requirement already satisfied: pydantic>=1.9.2 in /usr/local/lib/python3.10/dist-packages (from cohere) (2.6.4)\n",
            "Requirement already satisfied: requests<3.0.0,>=2.0.0 in /usr/local/lib/python3.10/dist-packages (from cohere) (2.31.0)\n",
            "Requirement already satisfied: tokenizers<0.16.0,>=0.15.2 in /usr/local/lib/python3.10/dist-packages (from cohere) (0.15.2)\n",
            "Collecting types-requests<3.0.0,>=2.0.0 (from cohere)\n",
            "  Downloading types_requests-2.31.0.20240406-py3-none-any.whl (15 kB)\n",
            "Requirement already satisfied: typing_extensions>=4.0.0 in /usr/local/lib/python3.10/dist-packages (from cohere) (4.11.0)\n",
            "Requirement already satisfied: anyio in /usr/local/lib/python3.10/dist-packages (from httpx>=0.21.2->cohere) (3.7.1)\n",
            "Requirement already satisfied: certifi in /usr/local/lib/python3.10/dist-packages (from httpx>=0.21.2->cohere) (2024.2.2)\n",
            "Requirement already satisfied: httpcore==1.* in /usr/local/lib/python3.10/dist-packages (from httpx>=0.21.2->cohere) (1.0.5)\n",
            "Requirement already satisfied: idna in /usr/local/lib/python3.10/dist-packages (from httpx>=0.21.2->cohere) (3.6)\n",
            "Requirement already satisfied: sniffio in /usr/local/lib/python3.10/dist-packages (from httpx>=0.21.2->cohere) (1.3.1)\n",
            "Requirement already satisfied: h11<0.15,>=0.13 in /usr/local/lib/python3.10/dist-packages (from httpcore==1.*->httpx>=0.21.2->cohere) (0.14.0)\n",
            "Requirement already satisfied: annotated-types>=0.4.0 in /usr/local/lib/python3.10/dist-packages (from pydantic>=1.9.2->cohere) (0.6.0)\n",
            "Requirement already satisfied: pydantic-core==2.16.3 in /usr/local/lib/python3.10/dist-packages (from pydantic>=1.9.2->cohere) (2.16.3)\n",
            "Requirement already satisfied: charset-normalizer<4,>=2 in /usr/local/lib/python3.10/dist-packages (from requests<3.0.0,>=2.0.0->cohere) (3.3.2)\n",
            "Requirement already satisfied: urllib3<3,>=1.21.1 in /usr/local/lib/python3.10/dist-packages (from requests<3.0.0,>=2.0.0->cohere) (2.0.7)\n",
            "Requirement already satisfied: huggingface_hub<1.0,>=0.16.4 in /usr/local/lib/python3.10/dist-packages (from tokenizers<0.16.0,>=0.15.2->cohere) (0.20.3)\n",
            "Requirement already satisfied: filelock in /usr/local/lib/python3.10/dist-packages (from huggingface_hub<1.0,>=0.16.4->tokenizers<0.16.0,>=0.15.2->cohere) (3.13.4)\n",
            "Requirement already satisfied: fsspec>=2023.5.0 in /usr/local/lib/python3.10/dist-packages (from huggingface_hub<1.0,>=0.16.4->tokenizers<0.16.0,>=0.15.2->cohere) (2023.6.0)\n",
            "Requirement already satisfied: tqdm>=4.42.1 in /usr/local/lib/python3.10/dist-packages (from huggingface_hub<1.0,>=0.16.4->tokenizers<0.16.0,>=0.15.2->cohere) (4.66.2)\n",
            "Requirement already satisfied: pyyaml>=5.1 in /usr/local/lib/python3.10/dist-packages (from huggingface_hub<1.0,>=0.16.4->tokenizers<0.16.0,>=0.15.2->cohere) (6.0.1)\n",
            "Requirement already satisfied: packaging>=20.9 in /usr/local/lib/python3.10/dist-packages (from huggingface_hub<1.0,>=0.16.4->tokenizers<0.16.0,>=0.15.2->cohere) (24.0)\n",
            "Requirement already satisfied: exceptiongroup in /usr/local/lib/python3.10/dist-packages (from anyio->httpx>=0.21.2->cohere) (1.2.0)\n",
            "Installing collected packages: types-requests, fastavro, cohere\n",
            "Successfully installed cohere-5.2.5 fastavro-1.9.4 types-requests-2.31.0.20240406\n",
            "Requirement already satisfied: pandas in /usr/local/lib/python3.10/dist-packages (2.0.3)\n",
            "Requirement already satisfied: python-dateutil>=2.8.2 in /usr/local/lib/python3.10/dist-packages (from pandas) (2.8.2)\n",
            "Requirement already satisfied: pytz>=2020.1 in /usr/local/lib/python3.10/dist-packages (from pandas) (2023.4)\n",
            "Requirement already satisfied: tzdata>=2022.1 in /usr/local/lib/python3.10/dist-packages (from pandas) (2024.1)\n",
            "Requirement already satisfied: numpy>=1.21.0 in /usr/local/lib/python3.10/dist-packages (from pandas) (1.25.2)\n",
            "Requirement already satisfied: six>=1.5 in /usr/local/lib/python3.10/dist-packages (from python-dateutil>=2.8.2->pandas) (1.16.0)\n",
            "Requirement already satisfied: matplotlib in /usr/local/lib/python3.10/dist-packages (3.7.1)\n",
            "Requirement already satisfied: contourpy>=1.0.1 in /usr/local/lib/python3.10/dist-packages (from matplotlib) (1.2.1)\n",
            "Requirement already satisfied: cycler>=0.10 in /usr/local/lib/python3.10/dist-packages (from matplotlib) (0.12.1)\n",
            "Requirement already satisfied: fonttools>=4.22.0 in /usr/local/lib/python3.10/dist-packages (from matplotlib) (4.51.0)\n",
            "Requirement already satisfied: kiwisolver>=1.0.1 in /usr/local/lib/python3.10/dist-packages (from matplotlib) (1.4.5)\n",
            "Requirement already satisfied: numpy>=1.20 in /usr/local/lib/python3.10/dist-packages (from matplotlib) (1.25.2)\n",
            "Requirement already satisfied: packaging>=20.0 in /usr/local/lib/python3.10/dist-packages (from matplotlib) (24.0)\n",
            "Requirement already satisfied: pillow>=6.2.0 in /usr/local/lib/python3.10/dist-packages (from matplotlib) (9.4.0)\n",
            "Requirement already satisfied: pyparsing>=2.3.1 in /usr/local/lib/python3.10/dist-packages (from matplotlib) (3.1.2)\n",
            "Requirement already satisfied: python-dateutil>=2.7 in /usr/local/lib/python3.10/dist-packages (from matplotlib) (2.8.2)\n",
            "Requirement already satisfied: six>=1.5 in /usr/local/lib/python3.10/dist-packages (from python-dateutil>=2.7->matplotlib) (1.16.0)\n",
            "Requirement already satisfied: seaborn in /usr/local/lib/python3.10/dist-packages (0.13.1)\n",
            "Requirement already satisfied: numpy!=1.24.0,>=1.20 in /usr/local/lib/python3.10/dist-packages (from seaborn) (1.25.2)\n",
            "Requirement already satisfied: pandas>=1.2 in /usr/local/lib/python3.10/dist-packages (from seaborn) (2.0.3)\n",
            "Requirement already satisfied: matplotlib!=3.6.1,>=3.4 in /usr/local/lib/python3.10/dist-packages (from seaborn) (3.7.1)\n",
            "Requirement already satisfied: contourpy>=1.0.1 in /usr/local/lib/python3.10/dist-packages (from matplotlib!=3.6.1,>=3.4->seaborn) (1.2.1)\n",
            "Requirement already satisfied: cycler>=0.10 in /usr/local/lib/python3.10/dist-packages (from matplotlib!=3.6.1,>=3.4->seaborn) (0.12.1)\n",
            "Requirement already satisfied: fonttools>=4.22.0 in /usr/local/lib/python3.10/dist-packages (from matplotlib!=3.6.1,>=3.4->seaborn) (4.51.0)\n",
            "Requirement already satisfied: kiwisolver>=1.0.1 in /usr/local/lib/python3.10/dist-packages (from matplotlib!=3.6.1,>=3.4->seaborn) (1.4.5)\n",
            "Requirement already satisfied: packaging>=20.0 in /usr/local/lib/python3.10/dist-packages (from matplotlib!=3.6.1,>=3.4->seaborn) (24.0)\n",
            "Requirement already satisfied: pillow>=6.2.0 in /usr/local/lib/python3.10/dist-packages (from matplotlib!=3.6.1,>=3.4->seaborn) (9.4.0)\n",
            "Requirement already satisfied: pyparsing>=2.3.1 in /usr/local/lib/python3.10/dist-packages (from matplotlib!=3.6.1,>=3.4->seaborn) (3.1.2)\n",
            "Requirement already satisfied: python-dateutil>=2.7 in /usr/local/lib/python3.10/dist-packages (from matplotlib!=3.6.1,>=3.4->seaborn) (2.8.2)\n",
            "Requirement already satisfied: pytz>=2020.1 in /usr/local/lib/python3.10/dist-packages (from pandas>=1.2->seaborn) (2023.4)\n",
            "Requirement already satisfied: tzdata>=2022.1 in /usr/local/lib/python3.10/dist-packages (from pandas>=1.2->seaborn) (2024.1)\n",
            "Requirement already satisfied: six>=1.5 in /usr/local/lib/python3.10/dist-packages (from python-dateutil>=2.7->matplotlib!=3.6.1,>=3.4->seaborn) (1.16.0)\n",
            "Collecting langchain_experimental==0.0.49\n",
            "  Downloading langchain_experimental-0.0.49-py3-none-any.whl (165 kB)\n",
            "\u001b[2K     \u001b[90m━━━━━━━━━━━━━━━━━━━━━━━━━━━━━━━━━━━━━━━━\u001b[0m \u001b[32m165.7/165.7 kB\u001b[0m \u001b[31m3.4 MB/s\u001b[0m eta \u001b[36m0:00:00\u001b[0m\n",
            "\u001b[?25hCollecting langchain==0.1.0\n",
            "  Downloading langchain-0.1.0-py3-none-any.whl (797 kB)\n",
            "\u001b[2K     \u001b[90m━━━━━━━━━━━━━━━━━━━━━━━━━━━━━━━━━━━━━━━━\u001b[0m \u001b[32m798.0/798.0 kB\u001b[0m \u001b[31m46.2 MB/s\u001b[0m eta \u001b[36m0:00:00\u001b[0m\n",
            "\u001b[?25hCollecting langchain-core==0.1.10\n",
            "  Downloading langchain_core-0.1.10-py3-none-any.whl (216 kB)\n",
            "\u001b[2K     \u001b[90m━━━━━━━━━━━━━━━━━━━━━━━━━━━━━━━━━━━━━━━━\u001b[0m \u001b[32m216.6/216.6 kB\u001b[0m \u001b[31m22.8 MB/s\u001b[0m eta \u001b[36m0:00:00\u001b[0m\n",
            "\u001b[?25hRequirement already satisfied: PyYAML>=5.3 in /usr/local/lib/python3.10/dist-packages (from langchain==0.1.0) (6.0.1)\n",
            "Requirement already satisfied: SQLAlchemy<3,>=1.4 in /usr/local/lib/python3.10/dist-packages (from langchain==0.1.0) (2.0.29)\n",
            "Requirement already satisfied: aiohttp<4.0.0,>=3.8.3 in /usr/local/lib/python3.10/dist-packages (from langchain==0.1.0) (3.9.3)\n",
            "Requirement already satisfied: async-timeout<5.0.0,>=4.0.0 in /usr/local/lib/python3.10/dist-packages (from langchain==0.1.0) (4.0.3)\n",
            "Collecting dataclasses-json<0.7,>=0.5.7 (from langchain==0.1.0)\n",
            "  Downloading dataclasses_json-0.6.4-py3-none-any.whl (28 kB)\n",
            "Collecting jsonpatch<2.0,>=1.33 (from langchain==0.1.0)\n",
            "  Downloading jsonpatch-1.33-py2.py3-none-any.whl (12 kB)\n",
            "Collecting langchain-community<0.1,>=0.0.9 (from langchain==0.1.0)\n",
            "  Downloading langchain_community-0.0.32-py3-none-any.whl (1.9 MB)\n",
            "\u001b[2K     \u001b[90m━━━━━━━━━━━━━━━━━━━━━━━━━━━━━━━━━━━━━━━━\u001b[0m \u001b[32m1.9/1.9 MB\u001b[0m \u001b[31m67.4 MB/s\u001b[0m eta \u001b[36m0:00:00\u001b[0m\n",
            "\u001b[?25hCollecting langsmith<0.1.0,>=0.0.77 (from langchain==0.1.0)\n",
            "  Downloading langsmith-0.0.92-py3-none-any.whl (56 kB)\n",
            "\u001b[2K     \u001b[90m━━━━━━━━━━━━━━━━━━━━━━━━━━━━━━━━━━━━━━━━\u001b[0m \u001b[32m56.5/56.5 kB\u001b[0m \u001b[31m7.3 MB/s\u001b[0m eta \u001b[36m0:00:00\u001b[0m\n",
            "\u001b[?25hRequirement already satisfied: numpy<2,>=1 in /usr/local/lib/python3.10/dist-packages (from langchain==0.1.0) (1.25.2)\n",
            "Requirement already satisfied: pydantic<3,>=1 in /usr/local/lib/python3.10/dist-packages (from langchain==0.1.0) (2.6.4)\n",
            "Requirement already satisfied: requests<3,>=2 in /usr/local/lib/python3.10/dist-packages (from langchain==0.1.0) (2.31.0)\n",
            "Requirement already satisfied: tenacity<9.0.0,>=8.1.0 in /usr/local/lib/python3.10/dist-packages (from langchain==0.1.0) (8.2.3)\n",
            "Requirement already satisfied: anyio<5,>=3 in /usr/local/lib/python3.10/dist-packages (from langchain-core==0.1.10) (3.7.1)\n",
            "Collecting packaging<24.0,>=23.2 (from langchain-core==0.1.10)\n",
            "  Downloading packaging-23.2-py3-none-any.whl (53 kB)\n",
            "\u001b[2K     \u001b[90m━━━━━━━━━━━━━━━━━━━━━━━━━━━━━━━━━━━━━━━━\u001b[0m \u001b[32m53.0/53.0 kB\u001b[0m \u001b[31m5.8 MB/s\u001b[0m eta \u001b[36m0:00:00\u001b[0m\n",
            "\u001b[?25hRequirement already satisfied: aiosignal>=1.1.2 in /usr/local/lib/python3.10/dist-packages (from aiohttp<4.0.0,>=3.8.3->langchain==0.1.0) (1.3.1)\n",
            "Requirement already satisfied: attrs>=17.3.0 in /usr/local/lib/python3.10/dist-packages (from aiohttp<4.0.0,>=3.8.3->langchain==0.1.0) (23.2.0)\n",
            "Requirement already satisfied: frozenlist>=1.1.1 in /usr/local/lib/python3.10/dist-packages (from aiohttp<4.0.0,>=3.8.3->langchain==0.1.0) (1.4.1)\n",
            "Requirement already satisfied: multidict<7.0,>=4.5 in /usr/local/lib/python3.10/dist-packages (from aiohttp<4.0.0,>=3.8.3->langchain==0.1.0) (6.0.5)\n",
            "Requirement already satisfied: yarl<2.0,>=1.0 in /usr/local/lib/python3.10/dist-packages (from aiohttp<4.0.0,>=3.8.3->langchain==0.1.0) (1.9.4)\n",
            "Requirement already satisfied: idna>=2.8 in /usr/local/lib/python3.10/dist-packages (from anyio<5,>=3->langchain-core==0.1.10) (3.6)\n",
            "Requirement already satisfied: sniffio>=1.1 in /usr/local/lib/python3.10/dist-packages (from anyio<5,>=3->langchain-core==0.1.10) (1.3.1)\n",
            "Requirement already satisfied: exceptiongroup in /usr/local/lib/python3.10/dist-packages (from anyio<5,>=3->langchain-core==0.1.10) (1.2.0)\n",
            "Collecting marshmallow<4.0.0,>=3.18.0 (from dataclasses-json<0.7,>=0.5.7->langchain==0.1.0)\n",
            "  Downloading marshmallow-3.21.1-py3-none-any.whl (49 kB)\n",
            "\u001b[2K     \u001b[90m━━━━━━━━━━━━━━━━━━━━━━━━━━━━━━━━━━━━━━━━\u001b[0m \u001b[32m49.4/49.4 kB\u001b[0m \u001b[31m6.5 MB/s\u001b[0m eta \u001b[36m0:00:00\u001b[0m\n",
            "\u001b[?25hCollecting typing-inspect<1,>=0.4.0 (from dataclasses-json<0.7,>=0.5.7->langchain==0.1.0)\n",
            "  Downloading typing_inspect-0.9.0-py3-none-any.whl (8.8 kB)\n",
            "Collecting jsonpointer>=1.9 (from jsonpatch<2.0,>=1.33->langchain==0.1.0)\n",
            "  Downloading jsonpointer-2.4-py2.py3-none-any.whl (7.8 kB)\n",
            "INFO: pip is looking at multiple versions of langchain-community to determine which version is compatible with other requirements. This could take a while.\n",
            "Collecting langchain-community<0.1,>=0.0.9 (from langchain==0.1.0)\n",
            "  Downloading langchain_community-0.0.31-py3-none-any.whl (1.9 MB)\n",
            "\u001b[2K     \u001b[90m━━━━━━━━━━━━━━━━━━━━━━━━━━━━━━━━━━━━━━━━\u001b[0m \u001b[32m1.9/1.9 MB\u001b[0m \u001b[31m58.3 MB/s\u001b[0m eta \u001b[36m0:00:00\u001b[0m\n",
            "\u001b[?25h  Downloading langchain_community-0.0.30-py3-none-any.whl (1.9 MB)\n",
            "\u001b[2K     \u001b[90m━━━━━━━━━━━━━━━━━━━━━━━━━━━━━━━━━━━━━━━━\u001b[0m \u001b[32m1.9/1.9 MB\u001b[0m \u001b[31m66.1 MB/s\u001b[0m eta \u001b[36m0:00:00\u001b[0m\n",
            "\u001b[?25h  Downloading langchain_community-0.0.29-py3-none-any.whl (1.8 MB)\n",
            "\u001b[2K     \u001b[90m━━━━━━━━━━━━━━━━━━━━━━━━━━━━━━━━━━━━━━━━\u001b[0m \u001b[32m1.8/1.8 MB\u001b[0m \u001b[31m68.9 MB/s\u001b[0m eta \u001b[36m0:00:00\u001b[0m\n",
            "\u001b[?25h  Downloading langchain_community-0.0.28-py3-none-any.whl (1.8 MB)\n",
            "\u001b[2K     \u001b[90m━━━━━━━━━━━━━━━━━━━━━━━━━━━━━━━━━━━━━━━━\u001b[0m \u001b[32m1.8/1.8 MB\u001b[0m \u001b[31m66.3 MB/s\u001b[0m eta \u001b[36m0:00:00\u001b[0m\n",
            "\u001b[?25h  Downloading langchain_community-0.0.27-py3-none-any.whl (1.8 MB)\n",
            "\u001b[2K     \u001b[90m━━━━━━━━━━━━━━━━━━━━━━━━━━━━━━━━━━━━━━━━\u001b[0m \u001b[32m1.8/1.8 MB\u001b[0m \u001b[31m67.9 MB/s\u001b[0m eta \u001b[36m0:00:00\u001b[0m\n",
            "\u001b[?25h  Downloading langchain_community-0.0.26-py3-none-any.whl (1.8 MB)\n",
            "\u001b[2K     \u001b[90m━━━━━━━━━━━━━━━━━━━━━━━━━━━━━━━━━━━━━━━━\u001b[0m \u001b[32m1.8/1.8 MB\u001b[0m \u001b[31m68.9 MB/s\u001b[0m eta \u001b[36m0:00:00\u001b[0m\n",
            "\u001b[?25h  Downloading langchain_community-0.0.25-py3-none-any.whl (1.8 MB)\n",
            "\u001b[2K     \u001b[90m━━━━━━━━━━━━━━━━━━━━━━━━━━━━━━━━━━━━━━━━\u001b[0m \u001b[32m1.8/1.8 MB\u001b[0m \u001b[31m60.7 MB/s\u001b[0m eta \u001b[36m0:00:00\u001b[0m\n",
            "\u001b[?25hINFO: pip is looking at multiple versions of langchain-community to determine which version is compatible with other requirements. This could take a while.\n",
            "  Downloading langchain_community-0.0.24-py3-none-any.whl (1.7 MB)\n",
            "\u001b[2K     \u001b[90m━━━━━━━━━━━━━━━━━━━━━━━━━━━━━━━━━━━━━━━━\u001b[0m \u001b[32m1.7/1.7 MB\u001b[0m \u001b[31m61.3 MB/s\u001b[0m eta \u001b[36m0:00:00\u001b[0m\n",
            "\u001b[?25h  Downloading langchain_community-0.0.23-py3-none-any.whl (1.7 MB)\n",
            "\u001b[2K     \u001b[90m━━━━━━━━━━━━━━━━━━━━━━━━━━━━━━━━━━━━━━━━\u001b[0m \u001b[32m1.7/1.7 MB\u001b[0m \u001b[31m63.3 MB/s\u001b[0m eta \u001b[36m0:00:00\u001b[0m\n",
            "\u001b[?25h  Downloading langchain_community-0.0.22-py3-none-any.whl (1.7 MB)\n",
            "\u001b[2K     \u001b[90m━━━━━━━━━━━━━━━━━━━━━━━━━━━━━━━━━━━━━━━━\u001b[0m \u001b[32m1.7/1.7 MB\u001b[0m \u001b[31m68.1 MB/s\u001b[0m eta \u001b[36m0:00:00\u001b[0m\n",
            "\u001b[?25h  Downloading langchain_community-0.0.21-py3-none-any.whl (1.7 MB)\n",
            "\u001b[2K     \u001b[90m━━━━━━━━━━━━━━━━━━━━━━━━━━━━━━━━━━━━━━━━\u001b[0m \u001b[32m1.7/1.7 MB\u001b[0m \u001b[31m62.2 MB/s\u001b[0m eta \u001b[36m0:00:00\u001b[0m\n",
            "\u001b[?25h  Downloading langchain_community-0.0.20-py3-none-any.whl (1.7 MB)\n",
            "\u001b[2K     \u001b[90m━━━━━━━━━━━━━━━━━━━━━━━━━━━━━━━━━━━━━━━━\u001b[0m \u001b[32m1.7/1.7 MB\u001b[0m \u001b[31m56.5 MB/s\u001b[0m eta \u001b[36m0:00:00\u001b[0m\n",
            "\u001b[?25hINFO: This is taking longer than usual. You might need to provide the dependency resolver with stricter constraints to reduce runtime. See https://pip.pypa.io/warnings/backtracking for guidance. If you want to abort this run, press Ctrl + C.\n",
            "  Downloading langchain_community-0.0.19-py3-none-any.whl (1.6 MB)\n",
            "\u001b[2K     \u001b[90m━━━━━━━━━━━━━━━━━━━━━━━━━━━━━━━━━━━━━━━━\u001b[0m \u001b[32m1.6/1.6 MB\u001b[0m \u001b[31m62.7 MB/s\u001b[0m eta \u001b[36m0:00:00\u001b[0m\n",
            "\u001b[?25h  Downloading langchain_community-0.0.18-py3-none-any.whl (1.6 MB)\n",
            "\u001b[2K     \u001b[90m━━━━━━━━━━━━━━━━━━━━━━━━━━━━━━━━━━━━━━━━\u001b[0m \u001b[32m1.6/1.6 MB\u001b[0m \u001b[31m51.3 MB/s\u001b[0m eta \u001b[36m0:00:00\u001b[0m\n",
            "\u001b[?25h  Downloading langchain_community-0.0.17-py3-none-any.whl (1.6 MB)\n",
            "\u001b[2K     \u001b[90m━━━━━━━━━━━━━━━━━━━━━━━━━━━━━━━━━━━━━━━━\u001b[0m \u001b[32m1.6/1.6 MB\u001b[0m \u001b[31m53.4 MB/s\u001b[0m eta \u001b[36m0:00:00\u001b[0m\n",
            "\u001b[?25h  Downloading langchain_community-0.0.16-py3-none-any.whl (1.6 MB)\n",
            "\u001b[2K     \u001b[90m━━━━━━━━━━━━━━━━━━━━━━━━━━━━━━━━━━━━━━━━\u001b[0m \u001b[32m1.6/1.6 MB\u001b[0m \u001b[31m50.2 MB/s\u001b[0m eta \u001b[36m0:00:00\u001b[0m\n",
            "\u001b[?25h  Downloading langchain_community-0.0.15-py3-none-any.whl (1.6 MB)\n",
            "\u001b[2K     \u001b[90m━━━━━━━━━━━━━━━━━━━━━━━━━━━━━━━━━━━━━━━━\u001b[0m \u001b[32m1.6/1.6 MB\u001b[0m \u001b[31m61.2 MB/s\u001b[0m eta \u001b[36m0:00:00\u001b[0m\n",
            "\u001b[?25h  Downloading langchain_community-0.0.14-py3-none-any.whl (1.6 MB)\n",
            "\u001b[2K     \u001b[90m━━━━━━━━━━━━━━━━━━━━━━━━━━━━━━━━━━━━━━━━\u001b[0m \u001b[32m1.6/1.6 MB\u001b[0m \u001b[31m41.2 MB/s\u001b[0m eta \u001b[36m0:00:00\u001b[0m\n",
            "\u001b[?25h  Downloading langchain_community-0.0.13-py3-none-any.whl (1.6 MB)\n",
            "\u001b[2K     \u001b[90m━━━━━━━━━━━━━━━━━━━━━━━━━━━━━━━━━━━━━━━━\u001b[0m \u001b[32m1.6/1.6 MB\u001b[0m \u001b[31m45.8 MB/s\u001b[0m eta \u001b[36m0:00:00\u001b[0m\n",
            "\u001b[?25hRequirement already satisfied: annotated-types>=0.4.0 in /usr/local/lib/python3.10/dist-packages (from pydantic<3,>=1->langchain==0.1.0) (0.6.0)\n",
            "Requirement already satisfied: pydantic-core==2.16.3 in /usr/local/lib/python3.10/dist-packages (from pydantic<3,>=1->langchain==0.1.0) (2.16.3)\n",
            "Requirement already satisfied: typing-extensions>=4.6.1 in /usr/local/lib/python3.10/dist-packages (from pydantic<3,>=1->langchain==0.1.0) (4.11.0)\n",
            "Requirement already satisfied: charset-normalizer<4,>=2 in /usr/local/lib/python3.10/dist-packages (from requests<3,>=2->langchain==0.1.0) (3.3.2)\n",
            "Requirement already satisfied: urllib3<3,>=1.21.1 in /usr/local/lib/python3.10/dist-packages (from requests<3,>=2->langchain==0.1.0) (2.0.7)\n",
            "Requirement already satisfied: certifi>=2017.4.17 in /usr/local/lib/python3.10/dist-packages (from requests<3,>=2->langchain==0.1.0) (2024.2.2)\n",
            "Requirement already satisfied: greenlet!=0.4.17 in /usr/local/lib/python3.10/dist-packages (from SQLAlchemy<3,>=1.4->langchain==0.1.0) (3.0.3)\n",
            "Collecting mypy-extensions>=0.3.0 (from typing-inspect<1,>=0.4.0->dataclasses-json<0.7,>=0.5.7->langchain==0.1.0)\n",
            "  Downloading mypy_extensions-1.0.0-py3-none-any.whl (4.7 kB)\n",
            "Installing collected packages: packaging, mypy-extensions, jsonpointer, typing-inspect, marshmallow, jsonpatch, langsmith, dataclasses-json, langchain-core, langchain-community, langchain, langchain_experimental\n",
            "  Attempting uninstall: packaging\n",
            "    Found existing installation: packaging 24.0\n",
            "    Uninstalling packaging-24.0:\n",
            "      Successfully uninstalled packaging-24.0\n",
            "Successfully installed dataclasses-json-0.6.4 jsonpatch-1.33 jsonpointer-2.4 langchain-0.1.0 langchain-community-0.0.13 langchain-core-0.1.10 langchain_experimental-0.0.49 langsmith-0.0.92 marshmallow-3.21.1 mypy-extensions-1.0.0 packaging-23.2 typing-inspect-0.9.0\n"
          ]
        }
      ]
    },
    {
      "cell_type": "markdown",
      "source": [
        "## **Displaying the OpenAI Library Version**"
      ],
      "metadata": {
        "id": "gl2QvH0molBZ"
      }
    },
    {
      "cell_type": "code",
      "source": [
        "!pip3 show openai;"
      ],
      "metadata": {
        "colab": {
          "base_uri": "https://localhost:8080/"
        },
        "id": "X122j14Voi4z",
        "outputId": "1ca36c4b-154c-4739-a4ec-b482af1c81b6"
      },
      "execution_count": null,
      "outputs": [
        {
          "output_type": "stream",
          "name": "stdout",
          "text": [
            "Name: openai\n",
            "Version: 1.7.1\n",
            "Summary: The official Python library for the openai API\n",
            "Home-page: \n",
            "Author: \n",
            "Author-email: OpenAI <support@openai.com>\n",
            "License: \n",
            "Location: /usr/local/lib/python3.10/dist-packages\n",
            "Requires: anyio, distro, httpx, pydantic, sniffio, tqdm, typing-extensions\n",
            "Required-by: \n"
          ]
        }
      ]
    },
    {
      "cell_type": "markdown",
      "source": [
        "#**Importing the libraries required**"
      ],
      "metadata": {
        "id": "d9z7FOdyow-U"
      }
    },
    {
      "cell_type": "code",
      "source": [
        "import os;\n",
        "import pandas as pd;\n",
        "import matplotlib.pyplot as plt;\n",
        "import seaborn as sns;\n",
        "from langchain_experimental.agents.agent_toolkits.pandas.base import create_pandas_dataframe_agent;\n",
        "from langchain.llms import OpenAI;\n",
        "from langchain.chat_models import ChatOpenAI;\n",
        "from langchain.agents.agent_types import AgentType;"
      ],
      "metadata": {
        "id": "0EILRyOco5sM"
      },
      "execution_count": null,
      "outputs": []
    },
    {
      "cell_type": "markdown",
      "source": [
        "## **Utilizing the OpenAI API Key and API Base**"
      ],
      "metadata": {
        "id": "UGmQrIVMpPz8"
      }
    },
    {
      "cell_type": "markdown",
      "source": [
        "While the subsequent cells in this notebok have already been run using an OpenAI API Key and API Base with outputs visible, these details are currently not provided in the following cell.\n",
        "\n",
        "You can access your individual OpenAI API Key and API Base URL through the Settings page in the Olympus Great Learning LMS - please refer to the document with instructions provided separately in order to do this."
      ],
      "metadata": {
        "id": "o87QWiaKpRBV"
      }
    },
    {
      "cell_type": "code",
      "source": [
        "API_KEY = 'gl-U2FsdGVkX19h+p22hlrxGHH31073rom7TxBk6YR1J5r9asF/k15TTBJ7LQvdY/Ry';\n",
        "OPENAI_API_BASE = 'https://aibe.mygreatlearning.com/openai/v1';\n",
        "\n",
        "os.environ['OPENAI_API_KEY'] = API_KEY;\n",
        "os.environ['OPENAI_API_BASE'] = OPENAI_API_BASE;"
      ],
      "metadata": {
        "id": "PfuLeu-OpUr1"
      },
      "execution_count": null,
      "outputs": []
    },
    {
      "cell_type": "markdown",
      "source": [
        "## **Creating the LLM Instance**"
      ],
      "metadata": {
        "id": "g0T01qONppyk"
      }
    },
    {
      "cell_type": "markdown",
      "source": [
        "Having provided details to access the OpenAI API, we can now create an LLM instance by using the ChatOpenAI() function and providing a model name - in this case, GPT-4. This LLM is the core of our LangChain agent, and it will be responsible for responding to our user queries (conditional to the additional prompts that LangChain provides it)."
      ],
      "metadata": {
        "id": "iiuwkHtTptOy"
      }
    },
    {
      "cell_type": "code",
      "source": [
        "\n",
        "\n",
        "llm = ChatOpenAI(model_name = 'gpt-4');"
      ],
      "metadata": {
        "colab": {
          "base_uri": "https://localhost:8080/"
        },
        "id": "56IONY9Bpvqw",
        "outputId": "d961c0b7-8958-4a1d-a966-90cac0ac0752"
      },
      "execution_count": null,
      "outputs": [
        {
          "output_type": "stream",
          "name": "stderr",
          "text": [
            "/usr/local/lib/python3.10/dist-packages/langchain_core/_api/deprecation.py:117: LangChainDeprecationWarning: The class `langchain_community.chat_models.openai.ChatOpenAI` was deprecated in langchain-community 0.0.10 and will be removed in 0.2.0. An updated version of the class exists in the langchain-openai package and should be used instead. To use it run `pip install -U langchain-openai` and import as `from langchain_openai import ChatOpenAI`.\n",
            "  warn_deprecated(\n"
          ]
        }
      ]
    },
    {
      "cell_type": "markdown",
      "source": [
        "# **Loading in the dataset**"
      ],
      "metadata": {
        "id": "6FurfPWLq_Wj"
      }
    },
    {
      "cell_type": "markdown",
      "source": [
        "Like we would always do for a Data Science project, we shall begin by using the read_csv() function to load in our dataset. For our trial in this notebook, we shall be working with the Pima Indians Diabetes dataset, a popular open-source Machine Learning dataset that assesses if a person of the Pima tribe origin has diabetes or not, based on a number of health factors."
      ],
      "metadata": {
        "id": "7XclZKGErNb0"
      }
    },
    {
      "cell_type": "code",
      "source": [
        "df=pd.read_csv(\"/content/drive/MyDrive/Pima_Diabetes.csv\");"
      ],
      "metadata": {
        "id": "EmQuq74grUgk"
      },
      "execution_count": null,
      "outputs": []
    },
    {
      "cell_type": "markdown",
      "source": [
        "## **Creating the Pandas DataFrame Agent**"
      ],
      "metadata": {
        "id": "xxm0NW_Nr0Yp"
      }
    },
    {
      "cell_type": "markdown",
      "source": [
        "The particular type of LangChain agent we shall be working with is a called a Pandas DataFrame agent - this agent is a specific instance of using an LLM such as GPT-4 to analyze a Pandas DataFrame with custom prompts and instructions provided by LangChain to the LLM for that purpose. We shall also set the verbose parameter in the following function to True, so that we can follow the internal thought process behind how the LLM arrives at its answers."
      ],
      "metadata": {
        "id": "o-jLDdUZr4fJ"
      }
    },
    {
      "cell_type": "code",
      "source": [
        "# The agent library documentation tool- Action: python_repl_ast-  go to realpython.com/python_repl-repl/ ( this interpret codes)\n",
        "agent = create_pandas_dataframe_agent(llm = llm, df = df, verbose = True);"
      ],
      "metadata": {
        "id": "qlEMHcdwr75o"
      },
      "execution_count": null,
      "outputs": []
    },
    {
      "cell_type": "markdown",
      "source": [
        "#**Query 1: Counting the number of rows**"
      ],
      "metadata": {
        "id": "h8i525RksCcT"
      }
    },
    {
      "cell_type": "markdown",
      "source": [
        "We can start off with a simple query - let's ask the agent for the number of rows present in this dataset."
      ],
      "metadata": {
        "id": "xZTJvrlbsICt"
      }
    },
    {
      "cell_type": "code",
      "source": [
        "user_message = 'How many rows are there?';\n",
        "agent.run(user_message);"
      ],
      "metadata": {
        "colab": {
          "base_uri": "https://localhost:8080/"
        },
        "id": "SG7__7vvtuev",
        "outputId": "64238582-3996-4645-c3d2-42ea0291d4d7"
      },
      "execution_count": null,
      "outputs": [
        {
          "output_type": "stream",
          "name": "stderr",
          "text": [
            "/usr/local/lib/python3.10/dist-packages/langchain_core/_api/deprecation.py:117: LangChainDeprecationWarning: The function `run` was deprecated in LangChain 0.1.0 and will be removed in 0.2.0. Use invoke instead.\n",
            "  warn_deprecated(\n"
          ]
        },
        {
          "output_type": "stream",
          "name": "stdout",
          "text": [
            "\n",
            "\n",
            "\u001b[1m> Entering new AgentExecutor chain...\u001b[0m\n",
            "\u001b[32;1m\u001b[1;3mThought: To find out the number of rows in a dataframe, we can use the `shape` attribute which returns a tuple where the first element is the number of rows and the second is the number of columns.\n",
            "Action: python_repl_ast\n",
            "Action Input: df.shape[0]\u001b[0m\n",
            "Observation: \u001b[36;1m\u001b[1;3m768\u001b[0m\n",
            "Thought:\u001b[32;1m\u001b[1;3mThe number of rows in the dataframe is 768.\n",
            "Final Answer: There are 768 rows.\u001b[0m\n",
            "\n",
            "\u001b[1m> Finished chain.\u001b[0m\n"
          ]
        }
      ]
    },
    {
      "cell_type": "markdown",
      "source": [
        "\n",
        "\n",
        "As we can see from above, the LLM agent uses a particular framework provided by LangChain (popularly called the ReAct Framework - Reason and Act), which forces it to carry out a structured thinking process in order to respond to our query. This is subtly different from interacting directly with an assistant-style LLM with our own query and system prompt - in this scenario, LangChain already has a system prompt in place for its agents that asks the LLM to use the ReAct Framework (with Thoughts, Actions and Observations) to come up with the Final Answer.\n",
        "\n",
        "In the example above, the LLM first generates a Thought on how it can find the number of rows in the DataFrame. This is then converted to an Action, the Pandas code that corresponds to the Thought, and that then leads to an Observation (which is the output of that Pandas code). The LLM then again reasons with itself using another Thought, which deduces that this Observation is in fact the final answer it is required to give, and it frames a Final Answer based on that finding.\n",
        "\n",
        "The number of these Thought - Action - Observation cycles will vary depending on the complexity of the user query - the more complex the query, the higher the number of such cycles required by the LLM agent to give us our final answer, which in a way, mirrors how we humans arrive at answers to questions of varying complexity with our reasoning process as well.\n",
        "\n",
        "In the following examples, let's ask EDA-style questions of increasing complexity to the LLM.\n"
      ],
      "metadata": {
        "id": "E6PprYMdtqV6"
      }
    },
    {
      "cell_type": "markdown",
      "source": [
        "## **Query 2: Retrieving the number and names of the columns**"
      ],
      "metadata": {
        "id": "8nqeAJ-gt_5A"
      }
    },
    {
      "cell_type": "code",
      "source": [
        "user_message = 'How many different columns are there in the dataset? What are the names of these columns?';\n",
        "agent.run(user_message);"
      ],
      "metadata": {
        "colab": {
          "base_uri": "https://localhost:8080/"
        },
        "id": "LYlZ4iHvuGuw",
        "outputId": "4fab3c0a-4653-4f8e-d9c9-91089ef6ace2"
      },
      "execution_count": null,
      "outputs": [
        {
          "output_type": "stream",
          "name": "stdout",
          "text": [
            "\n",
            "\n",
            "\u001b[1m> Entering new AgentExecutor chain...\u001b[0m\n",
            "\u001b[32;1m\u001b[1;3mThought: The number and names of columns in a pandas dataframe can be obtained by calling the `.columns` property on the dataframe.\n",
            "Action: python_repl_ast\n",
            "Action Input: df.columns\u001b[0m\n",
            "Observation: \u001b[36;1m\u001b[1;3mIndex(['Pregnancies', 'Glucose', 'BloodPressure', 'SkinThickness', 'Insulin',\n",
            "       'BMI', 'DiabetesPedigreeFunction', 'Age', 'Outcome'],\n",
            "      dtype='object')\u001b[0m\n",
            "Thought:\u001b[32;1m\u001b[1;3mThe columns property of the dataframe has returned an Index object containing the names of the columns. It can be seen that there are 9 columns, namely 'Pregnancies', 'Glucose', 'BloodPressure', 'SkinThickness', 'Insulin', 'BMI', 'DiabetesPedigreeFunction', 'Age', and 'Outcome'.\n",
            "Final Answer: There are 9 different columns in the dataset. The names of these columns are 'Pregnancies', 'Glucose', 'BloodPressure', 'SkinThickness', 'Insulin', 'BMI', 'DiabetesPedigreeFunction', 'Age', and 'Outcome'.\u001b[0m\n",
            "\n",
            "\u001b[1m> Finished chain.\u001b[0m\n"
          ]
        }
      ]
    },
    {
      "cell_type": "markdown",
      "source": [
        "## **Query 3: Checking for missing values in the dataset**"
      ],
      "metadata": {
        "id": "J4FdgHXhuZ-u"
      }
    },
    {
      "cell_type": "code",
      "source": [
        "user_message = 'Are there any missing values in the dataset?';\n",
        "agent.run(user_message);"
      ],
      "metadata": {
        "colab": {
          "base_uri": "https://localhost:8080/"
        },
        "id": "AP-9NBKWucrm",
        "outputId": "984acabf-371e-4c2a-bb9a-94bfc3b1d97c"
      },
      "execution_count": null,
      "outputs": [
        {
          "output_type": "stream",
          "name": "stdout",
          "text": [
            "\n",
            "\n",
            "\u001b[1m> Entering new AgentExecutor chain...\u001b[0m\n",
            "\u001b[32;1m\u001b[1;3mThought: To check for missing values in a pandas dataframe, we can use the `isna()` method, which returns a boolean same-sized object indicating if the values are NA/NaN. Then, we can use the `any()` method to check if any value is True in each column.\n",
            "Action: python_repl_ast\n",
            "Action Input: df.isna().any()\u001b[0m\n",
            "Observation: \u001b[36;1m\u001b[1;3mPregnancies                 False\n",
            "Glucose                     False\n",
            "BloodPressure               False\n",
            "SkinThickness               False\n",
            "Insulin                     False\n",
            "BMI                         False\n",
            "DiabetesPedigreeFunction    False\n",
            "Age                         False\n",
            "Outcome                     False\n",
            "dtype: bool\u001b[0m\n",
            "Thought:\u001b[32;1m\u001b[1;3mFrom the output, I can see that there are no missing values in our dataset because all columns returned False when checked for NaN values.\n",
            "Final Answer: No, there are no missing values in the dataset.\u001b[0m\n",
            "\n",
            "\u001b[1m> Finished chain.\u001b[0m\n"
          ]
        }
      ]
    },
    {
      "cell_type": "markdown",
      "source": [
        "#**Query 4: Obtaining the average age of the people in the dataset**"
      ],
      "metadata": {
        "id": "14nWGZAnuqKZ"
      }
    },
    {
      "cell_type": "code",
      "source": [
        "user_message = 'What is the average Age in the dataset?';\n",
        "agent.run(user_message);"
      ],
      "metadata": {
        "colab": {
          "base_uri": "https://localhost:8080/"
        },
        "id": "aOmsMatzvboL",
        "outputId": "c618948d-9b57-4694-a589-ae64b0dbf582"
      },
      "execution_count": null,
      "outputs": [
        {
          "output_type": "stream",
          "name": "stdout",
          "text": [
            "\n",
            "\n",
            "\u001b[1m> Entering new AgentExecutor chain...\u001b[0m\n",
            "\u001b[32;1m\u001b[1;3mThought: To find the average of the 'Age' column in the dataframe, I will use the mean() function provided by pandas.\n",
            "Action: python_repl_ast\n",
            "Action Input: df['Age'].mean()\u001b[0m\n",
            "Observation: \u001b[36;1m\u001b[1;3m33.240885416666664\u001b[0m\n",
            "Thought:\u001b[32;1m\u001b[1;3mI now know the final answer.\n",
            "Final Answer: The average age in the dataset is approximately 33.24.\u001b[0m\n",
            "\n",
            "\u001b[1m> Finished chain.\u001b[0m\n"
          ]
        }
      ]
    },
    {
      "cell_type": "markdown",
      "source": [
        "## **Query 5: Displaying a brief summary of the columns**"
      ],
      "metadata": {
        "id": "i694Qa9UvjVj"
      }
    },
    {
      "cell_type": "code",
      "source": [
        "user_message = 'Can you display a brief summary of the columns in the dataset for me?'\n",
        "agent.run(user_message);"
      ],
      "metadata": {
        "colab": {
          "base_uri": "https://localhost:8080/"
        },
        "id": "uu2evjguvogd",
        "outputId": "544c0736-898b-4427-b76a-8f41f8c7011e"
      },
      "execution_count": null,
      "outputs": [
        {
          "output_type": "stream",
          "name": "stdout",
          "text": [
            "\n",
            "\n",
            "\u001b[1m> Entering new AgentExecutor chain...\u001b[0m\n",
            "\u001b[32;1m\u001b[1;3mThought: To provide a brief summary of the columns in the dataset, I can use the `.info()` method of the pandas DataFrame.\n",
            "Action: python_repl_ast\n",
            "Action Input: df.info()\u001b[0m\n",
            "Observation: \u001b[36;1m\u001b[1;3m<class 'pandas.core.frame.DataFrame'>\n",
            "RangeIndex: 768 entries, 0 to 767\n",
            "Data columns (total 9 columns):\n",
            " #   Column                    Non-Null Count  Dtype  \n",
            "---  ------                    --------------  -----  \n",
            " 0   Pregnancies               768 non-null    int64  \n",
            " 1   Glucose                   768 non-null    int64  \n",
            " 2   BloodPressure             768 non-null    int64  \n",
            " 3   SkinThickness             768 non-null    int64  \n",
            " 4   Insulin                   768 non-null    int64  \n",
            " 5   BMI                       768 non-null    float64\n",
            " 6   DiabetesPedigreeFunction  768 non-null    float64\n",
            " 7   Age                       768 non-null    int64  \n",
            " 8   Outcome                   768 non-null    int64  \n",
            "dtypes: float64(2), int64(7)\n",
            "memory usage: 54.1 KB\n",
            "\u001b[0m\n",
            "Thought:\u001b[32;1m\u001b[1;3mI now know the final answer.\n",
            "Final Answer: The dataset contains 768 entries with 9 columns. The columns are 'Pregnancies', 'Glucose', 'BloodPressure', 'SkinThickness', 'Insulin', 'BMI', 'DiabetesPedigreeFunction', 'Age', and 'Outcome'. All columns are non-null, with 'Pregnancies', 'Glucose', 'BloodPressure', 'SkinThickness', 'Insulin', 'Age', and 'Outcome' being of integer data type, and 'BMI' and 'DiabetesPedigreeFunction' being of float data type. The dataset is using approximately 54.1 KB of memory.\u001b[0m\n",
            "\n",
            "\u001b[1m> Finished chain.\u001b[0m\n"
          ]
        }
      ]
    },
    {
      "cell_type": "markdown",
      "source": [
        "##Query 6: Plotting a Correlation Heatmap**"
      ],
      "metadata": {
        "id": "IoDfWlOavt5h"
      }
    },
    {
      "cell_type": "markdown",
      "source": [
        "In this example, we shall ask the agent to plot a correlation heatmap among the columns and comment on the trends observed in terms of which columns seem most strongly correlated with each other. We shall see that the LLM is capable of servicing this more complex request."
      ],
      "metadata": {
        "id": "d70cADkGwaRn"
      }
    },
    {
      "cell_type": "code",
      "source": [
        "user_message = 'Plot a correlation heatmap, showing correlations among all the columns. Label the axes, and comment on the main trends.';\n",
        "agent.run(user_message);"
      ],
      "metadata": {
        "colab": {
          "base_uri": "https://localhost:8080/",
          "height": 1000
        },
        "id": "nVbNV_HrwY1F",
        "outputId": "e76d78cf-b35c-477d-9c8c-41e0e34b2df2"
      },
      "execution_count": null,
      "outputs": [
        {
          "output_type": "stream",
          "name": "stdout",
          "text": [
            "\n",
            "\n",
            "\u001b[1m> Entering new AgentExecutor chain...\u001b[0m\n",
            "\u001b[32;1m\u001b[1;3mThought: To plot a correlation heatmap, we first need to calculate the correlation matrix using the `corr()` method of the dataframe. After that, we can use seaborn's heatmap function to plot the correlation matrix. \n",
            "\n",
            "Action: python_repl_ast\n",
            "Action Input: df.corr()\u001b[0m\n",
            "Observation: \u001b[36;1m\u001b[1;3m                          Pregnancies   Glucose  BloodPressure  SkinThickness  \\\n",
            "Pregnancies                  1.000000  0.129459       0.141282      -0.081672   \n",
            "Glucose                      0.129459  1.000000       0.152590       0.057328   \n",
            "BloodPressure                0.141282  0.152590       1.000000       0.207371   \n",
            "SkinThickness               -0.081672  0.057328       0.207371       1.000000   \n",
            "Insulin                     -0.073535  0.331357       0.088933       0.436783   \n",
            "BMI                          0.017683  0.221071       0.281805       0.392573   \n",
            "DiabetesPedigreeFunction    -0.033523  0.137337       0.041265       0.183928   \n",
            "Age                          0.544341  0.263514       0.239528      -0.113970   \n",
            "Outcome                      0.221898  0.466581       0.065068       0.074752   \n",
            "\n",
            "                           Insulin       BMI  DiabetesPedigreeFunction  \\\n",
            "Pregnancies              -0.073535  0.017683                 -0.033523   \n",
            "Glucose                   0.331357  0.221071                  0.137337   \n",
            "BloodPressure             0.088933  0.281805                  0.041265   \n",
            "SkinThickness             0.436783  0.392573                  0.183928   \n",
            "Insulin                   1.000000  0.197859                  0.185071   \n",
            "BMI                       0.197859  1.000000                  0.140647   \n",
            "DiabetesPedigreeFunction  0.185071  0.140647                  1.000000   \n",
            "Age                      -0.042163  0.036242                  0.033561   \n",
            "Outcome                   0.130548  0.292695                  0.173844   \n",
            "\n",
            "                               Age   Outcome  \n",
            "Pregnancies               0.544341  0.221898  \n",
            "Glucose                   0.263514  0.466581  \n",
            "BloodPressure             0.239528  0.065068  \n",
            "SkinThickness            -0.113970  0.074752  \n",
            "Insulin                  -0.042163  0.130548  \n",
            "BMI                       0.036242  0.292695  \n",
            "DiabetesPedigreeFunction  0.033561  0.173844  \n",
            "Age                       1.000000  0.238356  \n",
            "Outcome                   0.238356  1.000000  \u001b[0m\n",
            "Thought:\u001b[32;1m\u001b[1;3mThe correlation matrix shows the correlation between all columns. Now, we need to plot this correlation matrix using a heatmap. For this, we can use the seaborn library's heatmap function.\n",
            "\n",
            "Action: python_repl_ast\n",
            "Action Input: \n",
            "```python\n",
            "import seaborn as sns\n",
            "import matplotlib.pyplot as plt\n",
            "\n",
            "correlation_matrix = df.corr()\n",
            "plt.figure(figsize=(10,8))\n",
            "sns.heatmap(correlation_matrix, annot=True, cmap='coolwarm')\n",
            "plt.title('Correlation Heatmap')\n",
            "plt.show()\n",
            "```\u001b[0m"
          ]
        },
        {
          "output_type": "display_data",
          "data": {
            "text/plain": [
              "<Figure size 1000x800 with 2 Axes>"
            ],
            "image/png": "[encoded data removed]"
          },
          "metadata": {}
        },
        {
          "output_type": "stream",
          "name": "stdout",
          "text": [
            "\n",
            "Observation: \u001b[36;1m\u001b[1;3m\u001b[0m\n",
            "Thought:\u001b[32;1m\u001b[1;3mThe heatmap plot cannot be displayed here, but it is expected to show correlations among all the columns in the dataframe. Colors in the heatmap will indicate the strength of the correlation, with warmer colors indicating a strong positive correlation, and cooler colors indicating a strong negative correlation. The diagonal from the top left to the bottom right of the heatmap will show perfect correlation, as it represents the correlation of each variable with itself.\n",
            "\n",
            "From the correlation matrix above, we see that 'Glucose' and 'Outcome' have a strong positive correlation. Similarly, 'Age' and 'Pregnancies' are also positively correlated. The other variables show a mix of positive and negative correlations but not as strong. \n",
            "Final Answer: The correlation heatmap was successfully plotted. From the heatmap, we can observe that 'Glucose' and 'Outcome' have a strong positive correlation, implying that as glucose levels increase, the likelihood of diabetes (Outcome=1) also increases. Similarly, 'Age' and 'Pregnancies' are also positively correlated, which makes sense as older women would have had more opportunities for pregnancy. The correlations amongst other variables are not as strong.\u001b[0m\n",
            "\n",
            "\u001b[1m> Finished chain.\u001b[0m\n"
          ]
        }
      ]
    },
    {
      "cell_type": "markdown",
      "source": [
        "## **Query 7: Hypothesis Testing**"
      ],
      "metadata": {
        "id": "8rcNwISywob6"
      }
    },
    {
      "cell_type": "markdown",
      "source": [
        "In addition to the EDA style queries we have been asking the LLM to service above, it is also capable of performing tasks like Hypothesis Testing to statistically validate a quantitative claim we may have about the data - a useful endeavor when it comes to Data Science decision making. In the following example, we shall ask the LLM to use a T-test to validate whether higher levels of glucose increase the likelihood of diabetes or not."
      ],
      "metadata": {
        "id": "57NCGGedwtC9"
      }
    },
    {
      "cell_type": "code",
      "source": [
        "user_message = 'Validate the following hypothesis using a T-test. Null Hypothesis: Higher levels of Glucose do not increase the risk of Outcome 1. Alternate Hypothesis: Higher levels of Glucose increase the risk of Outcome 1.';\n",
        "agent.run(user_message);"
      ],
      "metadata": {
        "colab": {
          "base_uri": "https://localhost:8080/"
        },
        "id": "XHjQAnYcwxe5",
        "outputId": "a11fe183-bc26-42f0-89d9-b72f1b5c643d"
      },
      "execution_count": null,
      "outputs": [
        {
          "output_type": "stream",
          "name": "stdout",
          "text": [
            "\n",
            "\n",
            "\u001b[1m> Entering new AgentExecutor chain...\u001b[0m\n",
            "\u001b[32;1m\u001b[1;3mThought: To accomplish this task, I need to perform a T-test on the Glucose levels of those with Outcome 1 and those without Outcome 1. In Python, the `scipy.stats` module provides the `ttest_ind` function, which can calculate the T-test for the means of two independent samples. However, before I can use that, I need to separate the Glucose levels based on the Outcome.\n",
            "Action: python_repl_ast\n",
            "Action Input: df.groupby('Outcome')['Glucose'].apply(list)\u001b[0m\n",
            "Observation: \u001b[36;1m\u001b[1;3mOutcome\n",
            "0    [85, 89, 116, 115, 110, 139, 103, 126, 99, 97,...\n",
            "1    [148, 183, 137, 78, 197, 125, 168, 189, 166, 1...\n",
            "Name: Glucose, dtype: object\u001b[0m\n",
            "Thought:\u001b[32;1m\u001b[1;3mNow I have two lists: one with Glucose levels for those with Outcome 1 and another for those with Outcome 0. I can now proceed to perform the T-test. \n",
            "Action: python_repl_ast\n",
            "Action Input: from scipy.stats import ttest_ind\n",
            "glucose_0 = df[df['Outcome'] == 0]['Glucose']\n",
            "glucose_1 = df[df['Outcome'] == 1]['Glucose']\n",
            "ttest_ind(glucose_0, glucose_1)\u001b[0m\n",
            "Observation: \u001b[36;1m\u001b[1;3mTtestResult(statistic=-14.600060005973894, pvalue=8.935431645289913e-43, df=766.0)\u001b[0m\n",
            "Thought:\u001b[32;1m\u001b[1;3mThe T-test returned a statistic of -14.6 and a p-value of 8.93e-43. Because the p-value is less than 0.05, we can reject the null hypothesis. This means that there is a significant difference between the Glucose levels of those with Outcome 1 and those without Outcome 1. Therefore, it suggests that higher levels of Glucose increase the risk of Outcome 1.\n",
            "Final Answer: The alternate hypothesis is correct. Higher levels of Glucose increase the risk of Outcome 1.\u001b[0m\n",
            "\n",
            "\u001b[1m> Finished chain.\u001b[0m\n"
          ]
        }
      ]
    },
    {
      "cell_type": "markdown",
      "source": [
        "#**Query 8: Machine Learning Modeling**"
      ],
      "metadata": {
        "id": "iVO-Vlytw57a"
      }
    },
    {
      "cell_type": "markdown",
      "source": [
        "Finally, we can also get the LLM agent to perform Machine Learning modeling. Let us attempt to create a Logistic Regression model that aims to classify whether a person is likely to have diabetes or not given their health measurements.\n",
        "\n",
        "Since Machine Learning is a multi-step process - we will need to spell out the exact steps the agent is required to follow, the model it needs to use (Logistic Regression) and the outputs we expect from it (the Confusion Matrix and the Accuracy Score) - as such, a longer, step-by-step prompt will be required."
      ],
      "metadata": {
        "id": "ja_s-2KnxBAz"
      }
    },
    {
      "cell_type": "code",
      "source": [
        "user_message = 'Follow these steps to run a Logistic Regression model to predict the Outcome variable:\\\n",
        "1. Clean the dataset so it has no null values.\\\n",
        "2. Preprocess the dataset so it is ready for use by a Logistic Regression model.\\\n",
        "3. Run Logistic Regression to classify people into Outcome 1 or Outcome 0 with the following steps:\\\n",
        "3a. Split the data into Train and Test sets. These datasets should not contain the Outcome column.\\\n",
        "3b. Train the model on the Train dataset. Make sure the model converges, so use as many iterations as necessary for that.\\\n",
        "3c. Obtain y_pred by predicting on X_test and use a threshold to convert y_pred into binary values.\\\n",
        "3d. Plot the Confusion Matrix, print the accuracy score between binary y_pred and y_test, and comment on the predictive performance of the model.'\n",
        "\n",
        "agent.run(user_message);"
      ],
      "metadata": {
        "colab": {
          "base_uri": "https://localhost:8080/",
          "height": 1000
        },
        "id": "X4oEz405xFX1",
        "outputId": "e28c53b3-705f-497e-e8a8-b564f4288815"
      },
      "execution_count": null,
      "outputs": [
        {
          "output_type": "stream",
          "name": "stdout",
          "text": [
            "\n",
            "\n",
            "\u001b[1m> Entering new AgentExecutor chain...\u001b[0m\n",
            "\u001b[32;1m\u001b[1;3mThought: Before I can run a logistic regression model, I need to clean and preprocess the dataset. The first step is to check if the dataframe has any null values.\n",
            "Action: python_repl_ast\n",
            "Action Input: df.isnull().sum()\u001b[0m\n",
            "Observation: \u001b[36;1m\u001b[1;3mPregnancies                 0\n",
            "Glucose                     0\n",
            "BloodPressure               0\n",
            "SkinThickness               0\n",
            "Insulin                     0\n",
            "BMI                         0\n",
            "DiabetesPedigreeFunction    0\n",
            "Age                         0\n",
            "Outcome                     0\n",
            "dtype: int64\u001b[0m\n",
            "Thought:\u001b[32;1m\u001b[1;3mThe dataframe has no null values, so we can proceed to the next step, which is preprocessing the data for use in a logistic regression model. This typically involves splitting the data into features (X) and target (y), and then scaling the features.\n",
            "Action: python_repl_ast\n",
            "Action Input: from sklearn.model_selection import train_test_split\n",
            "from sklearn.preprocessing import StandardScaler\n",
            "\n",
            "X = df.drop('Outcome', axis=1)\n",
            "y = df['Outcome']\n",
            "\n",
            "X_train, X_test, y_train, y_test = train_test_split(X, y, test_size=0.3, random_state=42)\n",
            "\n",
            "scaler = StandardScaler()\n",
            "X_train = scaler.fit_transform(X_train)\n",
            "X_test = scaler.transform(X_test)\n",
            "\n",
            "X_train, X_test, y_train, y_test\u001b[0m\n",
            "Observation: \u001b[36;1m\u001b[1;3m(array([[-0.8362943 , -0.80005088, -0.53576428, ..., -1.06015343,\n",
            "        -0.61421636, -0.94861028],\n",
            "       [ 0.39072767, -0.49054341,  0.12804365, ...,  0.64646721,\n",
            "        -0.90973787, -0.43466673],\n",
            "       [-1.14304979,  0.43797901, -0.09322566, ...,  1.35537117,\n",
            "        -0.30699103, -0.77729576],\n",
            "       ...,\n",
            "       [ 1.92450513, -0.6143464 ,  0.90248622, ...,  1.78859026,\n",
            "         1.94892066,  0.42190587],\n",
            "       [-1.14304979,  0.62368349, -3.8548039 , ...,  1.36849903,\n",
            "        -0.77514391, -0.34900947],\n",
            "       [-1.14304979,  0.12847154,  1.45565949, ..., -1.24394334,\n",
            "        -0.60836445, -1.03426754]]), array([[ 0.69748316, -0.70719864, -0.64639893, ...,  0.26575953,\n",
            "        -0.11680393,  0.85019217],\n",
            "       [-0.52953881, -0.27388818,  0.29399563, ...,  0.488933  ,\n",
            "        -0.94192338, -1.03426754],\n",
            "       [-0.52953881, -0.39769117, -0.31449497, ..., -0.1543317 ,\n",
            "        -0.91266382, -1.03426754],\n",
            "       ...,\n",
            "       [-1.14304979,  0.19037303,  0.57058226, ...,  0.56770011,\n",
            "         0.97750343, -0.86295302],\n",
            "       [ 0.69748316, -0.49054341,  0.01740899, ..., -0.1543317 ,\n",
            "        -1.01799822,  0.33624861],\n",
            "       [ 0.39072767, -1.35716433,  0.68121692, ...,  0.50206085,\n",
            "        -0.91851573,  0.16493409]]), 334    0\n",
            "139    0\n",
            "485    1\n",
            "547    0\n",
            "18     0\n",
            "      ..\n",
            "71     0\n",
            "106    0\n",
            "270    1\n",
            "435    1\n",
            "102    0\n",
            "Name: Outcome, Length: 537, dtype: int64, 668    0\n",
            "324    0\n",
            "624    0\n",
            "690    0\n",
            "473    0\n",
            "      ..\n",
            "619    1\n",
            "198    1\n",
            "538    0\n",
            "329    0\n",
            "302    0\n",
            "Name: Outcome, Length: 231, dtype: int64)\u001b[0m\n",
            "Thought:\u001b[32;1m\u001b[1;3mThe data has been split into training and testing sets, and the features have been scaled. Now, I will proceed to the next step - creating and training a logistic regression model. I will use the LogisticRegression class from the sklearn library for this. Since the problem statement mentions that the model should be allowed to converge, I will use the 'liblinear' solver, which is good for small datasets and binary classification, and set the max_iter parameter to a high value.\n",
            "Action: python_repl_ast\n",
            "Action Input: from sklearn.linear_model import LogisticRegression\n",
            "\n",
            "model = LogisticRegression(solver='liblinear', max_iter=1000)\n",
            "model.fit(X_train, y_train)\n",
            "\n",
            "model\u001b[0m\n",
            "Observation: \u001b[36;1m\u001b[1;3mLogisticRegression(max_iter=1000, solver='liblinear')\u001b[0m\n",
            "Thought:\u001b[32;1m\u001b[1;3mThe model has been trained. Now, I will use it to make predictions on the test set. The problem statement asks for binary predictions, so I will use a threshold of 0.5 to convert the model's output into binary values.\n",
            "Action: python_repl_ast\n",
            "Action Input: y_pred = model.predict(X_test)\n",
            "y_pred\u001b[0m\n",
            "Observation: \u001b[36;1m\u001b[1;3m[0 0 0 0 1 0 0 1 1 1 0 1 0 0 0 0 0 0 1 1 0 0 0 0 1 1 0 0 0 0 1 1 1 1 1 1 1\n",
            " 0 0 1 0 1 1 0 0 1 1 0 0 1 0 1 1 0 0 0 1 0 0 1 1 0 0 0 0 1 0 1 0 1 1 0 0 0\n",
            " 0 1 0 0 0 0 1 0 0 0 0 1 1 0 0 0 0 0 0 1 1 1 0 0 1 0 1 0 1 1 1 0 0 1 0 0 0\n",
            " 0 0 1 0 0 1 0 0 1 0 0 0 0 0 0 0 1 1 1 1 1 0 0 1 0 0 1 1 0 0 0 0 0 0 0 0 0\n",
            " 0 1 0 0 0 0 0 0 0 1 1 0 1 1 0 0 0 1 0 0 1 1 1 0 0 1 1 0 0 0 0 0 1 1 0 1 1\n",
            " 0 0 0 1 0 0 0 1 0 0 0 0 0 0 1 0 0 0 0 1 0 0 0 1 1 0 0 0 0 1 0 1 0 0 1 1 0\n",
            " 0 0 0 1 0 0 0 0 0]\u001b[0m\n",
            "Thought:\u001b[32;1m\u001b[1;3mI have obtained the predicted values. Now, I will plot the confusion matrix and print the accuracy score to evaluate the performance of the model.\n",
            "Action: python_repl_ast\n",
            "Action Input: from sklearn.metrics import confusion_matrix, accuracy_score\n",
            "import matplotlib.pyplot as plt\n",
            "import seaborn as sns\n",
            "\n",
            "cm = confusion_matrix(y_test, y_pred)\n",
            "sns.heatmap(cm, annot=True, fmt=\"d\")\n",
            "plt.title('Confusion matrix')\n",
            "plt.xlabel('Predicted')\n",
            "plt.ylabel('True')\n",
            "plt.show()\n",
            "\n",
            "accuracy = accuracy_score(y_test, y_pred)\n",
            "accuracy\u001b[0m"
          ]
        },
        {
          "output_type": "display_data",
          "data": {
            "text/plain": [
              "<Figure size 640x480 with 2 Axes>"
            ],
            "image/png": "[encoded data removed]"
          },
          "metadata": {}
        },
        {
          "output_type": "stream",
          "name": "stdout",
          "text": [
            "\n",
            "Observation: \u001b[36;1m\u001b[1;3m0.7359307359307359\u001b[0m\n",
            "Thought:\u001b[32;1m\u001b[1;3mThe confusion matrix has been plotted and the accuracy score has been computed. The accuracy score is approximately 0.736, which means that the model correctly predicted the outcome in about 73.6% of the cases in the test set.\n",
            "Final Answer: The logistic regression model correctly predicted the Outcome variable in approximately 73.6% of the cases in the test set. This is a reasonable performance, but there may be room for improvement by tuning the model or using a different model. The confusion matrix provides more details about the types of errors made by the model.\u001b[0m\n",
            "\n",
            "\u001b[1m> Finished chain.\u001b[0m\n"
          ]
        }
      ]
    },
    {
      "cell_type": "markdown",
      "source": [
        "# **Conclusions**\n",
        "This learning notebook is a good demonstration of the capabilities of LangChain agents when they work in conjunction with a high-quality LLM, such as GPT-4. In general, experimentation is required with the framing of the exact user query prompt depending on the output required and the exact model being used (while GPT-4 works well and is subsequently a costlier model to use per API call due to its compute size and quality of NLU, weaker OpenAI models such as GPT-4 Turbo or GPT-3.5 Turbo may not give the same quality of results). There are other use cases that LangChain agents have been developed for, such as Database Natural Language Querying and Retrieval-Augmented Generation, which follow a similar structure and allow us to simply give Natural Language queries and commands to obtain the code-oriented results we would expect."
      ],
      "metadata": {
        "id": "naycsMAjxRsw"
      }
    }
  ]
}